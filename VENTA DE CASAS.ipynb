{
 "cells": [
  {
   "cell_type": "markdown",
   "id": "f7a4a1f7",
   "metadata": {},
   "source": [
    " \n",
    "  # VENTA  DE  CASAS  EN  EL  CONDADO  KING,  EE.UU"
   ]
  },
  {
   "cell_type": "markdown",
   "id": "9d5ee845",
   "metadata": {},
   "source": [
    "## Predicción del precio en base a modelos de Machine Learning"
   ]
  },
  {
   "cell_type": "markdown",
   "id": "aeffdc7a",
   "metadata": {},
   "source": [
    "### 1. Carga de librerias y base de datos:"
   ]
  },
  {
   "cell_type": "code",
   "execution_count": 329,
   "id": "b921db80",
   "metadata": {},
   "outputs": [],
   "source": [
    "import pandas as pd\n",
    "import matplotlib.pyplot as plt\n",
    "import numpy as np\n",
    "import seaborn as sns\n",
    "from sklearn.pipeline import Pipeline\n",
    "from sklearn.compose import ColumnTransformer\n",
    "from sklearn.preprocessing import StandardScaler,PolynomialFeatures\n",
    "from sklearn.linear_model import LinearRegression\n",
    "%matplotlib inline"
   ]
  },
  {
   "cell_type": "code",
   "execution_count": 496,
   "id": "89ef5302",
   "metadata": {},
   "outputs": [],
   "source": [
    "file_name=r\"C:\\Users\\User\\Downloads\\venta_de_casas.csv\"\n",
    "df=pd.read_csv(file_name)"
   ]
  },
  {
   "cell_type": "code",
   "execution_count": 410,
   "id": "0f7288a3",
   "metadata": {
    "scrolled": true
   },
   "outputs": [
    {
     "data": {
      "text/html": [
       "<div>\n",
       "<style scoped>\n",
       "    .dataframe tbody tr th:only-of-type {\n",
       "        vertical-align: middle;\n",
       "    }\n",
       "\n",
       "    .dataframe tbody tr th {\n",
       "        vertical-align: top;\n",
       "    }\n",
       "\n",
       "    .dataframe thead th {\n",
       "        text-align: right;\n",
       "    }\n",
       "</style>\n",
       "<table border=\"1\" class=\"dataframe\">\n",
       "  <thead>\n",
       "    <tr style=\"text-align: right;\">\n",
       "      <th></th>\n",
       "      <th>Unnamed: 0</th>\n",
       "      <th>id</th>\n",
       "      <th>date</th>\n",
       "      <th>price</th>\n",
       "      <th>bedrooms</th>\n",
       "      <th>bathrooms</th>\n",
       "      <th>sqft_living</th>\n",
       "      <th>sqft_lot</th>\n",
       "      <th>floors</th>\n",
       "      <th>waterfront</th>\n",
       "      <th>...</th>\n",
       "      <th>grade</th>\n",
       "      <th>sqft_above</th>\n",
       "      <th>sqft_basement</th>\n",
       "      <th>yr_built</th>\n",
       "      <th>yr_renovated</th>\n",
       "      <th>zipcode</th>\n",
       "      <th>lat</th>\n",
       "      <th>long</th>\n",
       "      <th>sqft_living15</th>\n",
       "      <th>sqft_lot15</th>\n",
       "    </tr>\n",
       "  </thead>\n",
       "  <tbody>\n",
       "    <tr>\n",
       "      <th>0</th>\n",
       "      <td>0</td>\n",
       "      <td>7129300520</td>\n",
       "      <td>20141013T000000</td>\n",
       "      <td>221900.0</td>\n",
       "      <td>3.0</td>\n",
       "      <td>1.00</td>\n",
       "      <td>1180</td>\n",
       "      <td>5650</td>\n",
       "      <td>1.0</td>\n",
       "      <td>0</td>\n",
       "      <td>...</td>\n",
       "      <td>7</td>\n",
       "      <td>1180</td>\n",
       "      <td>0</td>\n",
       "      <td>1955</td>\n",
       "      <td>0</td>\n",
       "      <td>98178</td>\n",
       "      <td>47.5112</td>\n",
       "      <td>-122.257</td>\n",
       "      <td>1340</td>\n",
       "      <td>5650</td>\n",
       "    </tr>\n",
       "    <tr>\n",
       "      <th>1</th>\n",
       "      <td>1</td>\n",
       "      <td>6414100192</td>\n",
       "      <td>20141209T000000</td>\n",
       "      <td>538000.0</td>\n",
       "      <td>3.0</td>\n",
       "      <td>2.25</td>\n",
       "      <td>2570</td>\n",
       "      <td>7242</td>\n",
       "      <td>2.0</td>\n",
       "      <td>0</td>\n",
       "      <td>...</td>\n",
       "      <td>7</td>\n",
       "      <td>2170</td>\n",
       "      <td>400</td>\n",
       "      <td>1951</td>\n",
       "      <td>1991</td>\n",
       "      <td>98125</td>\n",
       "      <td>47.7210</td>\n",
       "      <td>-122.319</td>\n",
       "      <td>1690</td>\n",
       "      <td>7639</td>\n",
       "    </tr>\n",
       "    <tr>\n",
       "      <th>2</th>\n",
       "      <td>2</td>\n",
       "      <td>5631500400</td>\n",
       "      <td>20150225T000000</td>\n",
       "      <td>180000.0</td>\n",
       "      <td>2.0</td>\n",
       "      <td>1.00</td>\n",
       "      <td>770</td>\n",
       "      <td>10000</td>\n",
       "      <td>1.0</td>\n",
       "      <td>0</td>\n",
       "      <td>...</td>\n",
       "      <td>6</td>\n",
       "      <td>770</td>\n",
       "      <td>0</td>\n",
       "      <td>1933</td>\n",
       "      <td>0</td>\n",
       "      <td>98028</td>\n",
       "      <td>47.7379</td>\n",
       "      <td>-122.233</td>\n",
       "      <td>2720</td>\n",
       "      <td>8062</td>\n",
       "    </tr>\n",
       "    <tr>\n",
       "      <th>3</th>\n",
       "      <td>3</td>\n",
       "      <td>2487200875</td>\n",
       "      <td>20141209T000000</td>\n",
       "      <td>604000.0</td>\n",
       "      <td>4.0</td>\n",
       "      <td>3.00</td>\n",
       "      <td>1960</td>\n",
       "      <td>5000</td>\n",
       "      <td>1.0</td>\n",
       "      <td>0</td>\n",
       "      <td>...</td>\n",
       "      <td>7</td>\n",
       "      <td>1050</td>\n",
       "      <td>910</td>\n",
       "      <td>1965</td>\n",
       "      <td>0</td>\n",
       "      <td>98136</td>\n",
       "      <td>47.5208</td>\n",
       "      <td>-122.393</td>\n",
       "      <td>1360</td>\n",
       "      <td>5000</td>\n",
       "    </tr>\n",
       "    <tr>\n",
       "      <th>4</th>\n",
       "      <td>4</td>\n",
       "      <td>1954400510</td>\n",
       "      <td>20150218T000000</td>\n",
       "      <td>510000.0</td>\n",
       "      <td>3.0</td>\n",
       "      <td>2.00</td>\n",
       "      <td>1680</td>\n",
       "      <td>8080</td>\n",
       "      <td>1.0</td>\n",
       "      <td>0</td>\n",
       "      <td>...</td>\n",
       "      <td>8</td>\n",
       "      <td>1680</td>\n",
       "      <td>0</td>\n",
       "      <td>1987</td>\n",
       "      <td>0</td>\n",
       "      <td>98074</td>\n",
       "      <td>47.6168</td>\n",
       "      <td>-122.045</td>\n",
       "      <td>1800</td>\n",
       "      <td>7503</td>\n",
       "    </tr>\n",
       "    <tr>\n",
       "      <th>...</th>\n",
       "      <td>...</td>\n",
       "      <td>...</td>\n",
       "      <td>...</td>\n",
       "      <td>...</td>\n",
       "      <td>...</td>\n",
       "      <td>...</td>\n",
       "      <td>...</td>\n",
       "      <td>...</td>\n",
       "      <td>...</td>\n",
       "      <td>...</td>\n",
       "      <td>...</td>\n",
       "      <td>...</td>\n",
       "      <td>...</td>\n",
       "      <td>...</td>\n",
       "      <td>...</td>\n",
       "      <td>...</td>\n",
       "      <td>...</td>\n",
       "      <td>...</td>\n",
       "      <td>...</td>\n",
       "      <td>...</td>\n",
       "      <td>...</td>\n",
       "    </tr>\n",
       "    <tr>\n",
       "      <th>21608</th>\n",
       "      <td>21608</td>\n",
       "      <td>263000018</td>\n",
       "      <td>20140521T000000</td>\n",
       "      <td>360000.0</td>\n",
       "      <td>3.0</td>\n",
       "      <td>2.50</td>\n",
       "      <td>1530</td>\n",
       "      <td>1131</td>\n",
       "      <td>3.0</td>\n",
       "      <td>0</td>\n",
       "      <td>...</td>\n",
       "      <td>8</td>\n",
       "      <td>1530</td>\n",
       "      <td>0</td>\n",
       "      <td>2009</td>\n",
       "      <td>0</td>\n",
       "      <td>98103</td>\n",
       "      <td>47.6993</td>\n",
       "      <td>-122.346</td>\n",
       "      <td>1530</td>\n",
       "      <td>1509</td>\n",
       "    </tr>\n",
       "    <tr>\n",
       "      <th>21609</th>\n",
       "      <td>21609</td>\n",
       "      <td>6600060120</td>\n",
       "      <td>20150223T000000</td>\n",
       "      <td>400000.0</td>\n",
       "      <td>4.0</td>\n",
       "      <td>2.50</td>\n",
       "      <td>2310</td>\n",
       "      <td>5813</td>\n",
       "      <td>2.0</td>\n",
       "      <td>0</td>\n",
       "      <td>...</td>\n",
       "      <td>8</td>\n",
       "      <td>2310</td>\n",
       "      <td>0</td>\n",
       "      <td>2014</td>\n",
       "      <td>0</td>\n",
       "      <td>98146</td>\n",
       "      <td>47.5107</td>\n",
       "      <td>-122.362</td>\n",
       "      <td>1830</td>\n",
       "      <td>7200</td>\n",
       "    </tr>\n",
       "    <tr>\n",
       "      <th>21610</th>\n",
       "      <td>21610</td>\n",
       "      <td>1523300141</td>\n",
       "      <td>20140623T000000</td>\n",
       "      <td>402101.0</td>\n",
       "      <td>2.0</td>\n",
       "      <td>0.75</td>\n",
       "      <td>1020</td>\n",
       "      <td>1350</td>\n",
       "      <td>2.0</td>\n",
       "      <td>0</td>\n",
       "      <td>...</td>\n",
       "      <td>7</td>\n",
       "      <td>1020</td>\n",
       "      <td>0</td>\n",
       "      <td>2009</td>\n",
       "      <td>0</td>\n",
       "      <td>98144</td>\n",
       "      <td>47.5944</td>\n",
       "      <td>-122.299</td>\n",
       "      <td>1020</td>\n",
       "      <td>2007</td>\n",
       "    </tr>\n",
       "    <tr>\n",
       "      <th>21611</th>\n",
       "      <td>21611</td>\n",
       "      <td>291310100</td>\n",
       "      <td>20150116T000000</td>\n",
       "      <td>400000.0</td>\n",
       "      <td>3.0</td>\n",
       "      <td>2.50</td>\n",
       "      <td>1600</td>\n",
       "      <td>2388</td>\n",
       "      <td>2.0</td>\n",
       "      <td>0</td>\n",
       "      <td>...</td>\n",
       "      <td>8</td>\n",
       "      <td>1600</td>\n",
       "      <td>0</td>\n",
       "      <td>2004</td>\n",
       "      <td>0</td>\n",
       "      <td>98027</td>\n",
       "      <td>47.5345</td>\n",
       "      <td>-122.069</td>\n",
       "      <td>1410</td>\n",
       "      <td>1287</td>\n",
       "    </tr>\n",
       "    <tr>\n",
       "      <th>21612</th>\n",
       "      <td>21612</td>\n",
       "      <td>1523300157</td>\n",
       "      <td>20141015T000000</td>\n",
       "      <td>325000.0</td>\n",
       "      <td>2.0</td>\n",
       "      <td>0.75</td>\n",
       "      <td>1020</td>\n",
       "      <td>1076</td>\n",
       "      <td>2.0</td>\n",
       "      <td>0</td>\n",
       "      <td>...</td>\n",
       "      <td>7</td>\n",
       "      <td>1020</td>\n",
       "      <td>0</td>\n",
       "      <td>2008</td>\n",
       "      <td>0</td>\n",
       "      <td>98144</td>\n",
       "      <td>47.5941</td>\n",
       "      <td>-122.299</td>\n",
       "      <td>1020</td>\n",
       "      <td>1357</td>\n",
       "    </tr>\n",
       "  </tbody>\n",
       "</table>\n",
       "<p>21613 rows × 22 columns</p>\n",
       "</div>"
      ],
      "text/plain": [
       "       Unnamed: 0          id             date     price  bedrooms  bathrooms  \\\n",
       "0               0  7129300520  20141013T000000  221900.0       3.0       1.00   \n",
       "1               1  6414100192  20141209T000000  538000.0       3.0       2.25   \n",
       "2               2  5631500400  20150225T000000  180000.0       2.0       1.00   \n",
       "3               3  2487200875  20141209T000000  604000.0       4.0       3.00   \n",
       "4               4  1954400510  20150218T000000  510000.0       3.0       2.00   \n",
       "...           ...         ...              ...       ...       ...        ...   \n",
       "21608       21608   263000018  20140521T000000  360000.0       3.0       2.50   \n",
       "21609       21609  6600060120  20150223T000000  400000.0       4.0       2.50   \n",
       "21610       21610  1523300141  20140623T000000  402101.0       2.0       0.75   \n",
       "21611       21611   291310100  20150116T000000  400000.0       3.0       2.50   \n",
       "21612       21612  1523300157  20141015T000000  325000.0       2.0       0.75   \n",
       "\n",
       "       sqft_living  sqft_lot  floors  waterfront  ...  grade  sqft_above  \\\n",
       "0             1180      5650     1.0           0  ...      7        1180   \n",
       "1             2570      7242     2.0           0  ...      7        2170   \n",
       "2              770     10000     1.0           0  ...      6         770   \n",
       "3             1960      5000     1.0           0  ...      7        1050   \n",
       "4             1680      8080     1.0           0  ...      8        1680   \n",
       "...            ...       ...     ...         ...  ...    ...         ...   \n",
       "21608         1530      1131     3.0           0  ...      8        1530   \n",
       "21609         2310      5813     2.0           0  ...      8        2310   \n",
       "21610         1020      1350     2.0           0  ...      7        1020   \n",
       "21611         1600      2388     2.0           0  ...      8        1600   \n",
       "21612         1020      1076     2.0           0  ...      7        1020   \n",
       "\n",
       "       sqft_basement  yr_built  yr_renovated  zipcode      lat     long  \\\n",
       "0                  0      1955             0    98178  47.5112 -122.257   \n",
       "1                400      1951          1991    98125  47.7210 -122.319   \n",
       "2                  0      1933             0    98028  47.7379 -122.233   \n",
       "3                910      1965             0    98136  47.5208 -122.393   \n",
       "4                  0      1987             0    98074  47.6168 -122.045   \n",
       "...              ...       ...           ...      ...      ...      ...   \n",
       "21608              0      2009             0    98103  47.6993 -122.346   \n",
       "21609              0      2014             0    98146  47.5107 -122.362   \n",
       "21610              0      2009             0    98144  47.5944 -122.299   \n",
       "21611              0      2004             0    98027  47.5345 -122.069   \n",
       "21612              0      2008             0    98144  47.5941 -122.299   \n",
       "\n",
       "       sqft_living15  sqft_lot15  \n",
       "0               1340        5650  \n",
       "1               1690        7639  \n",
       "2               2720        8062  \n",
       "3               1360        5000  \n",
       "4               1800        7503  \n",
       "...              ...         ...  \n",
       "21608           1530        1509  \n",
       "21609           1830        7200  \n",
       "21610           1020        2007  \n",
       "21611           1410        1287  \n",
       "21612           1020        1357  \n",
       "\n",
       "[21613 rows x 22 columns]"
      ]
     },
     "execution_count": 410,
     "metadata": {},
     "output_type": "execute_result"
    }
   ],
   "source": [
    "df"
   ]
  },
  {
   "cell_type": "markdown",
   "id": "32de7203",
   "metadata": {},
   "source": [
    "### 2. Exploración "
   ]
  },
  {
   "cell_type": "code",
   "execution_count": 353,
   "id": "95524844",
   "metadata": {
    "scrolled": true
   },
   "outputs": [
    {
     "data": {
      "text/plain": [
       "Unnamed: 0         int64\n",
       "id                 int64\n",
       "date              object\n",
       "price            float64\n",
       "bedrooms         float64\n",
       "bathrooms        float64\n",
       "sqft_living        int64\n",
       "sqft_lot           int64\n",
       "floors           float64\n",
       "waterfront         int64\n",
       "view               int64\n",
       "condition          int64\n",
       "grade              int64\n",
       "sqft_above         int64\n",
       "sqft_basement      int64\n",
       "yr_built           int64\n",
       "yr_renovated       int64\n",
       "zipcode            int64\n",
       "lat              float64\n",
       "long             float64\n",
       "sqft_living15      int64\n",
       "sqft_lot15         int64\n",
       "dtype: object"
      ]
     },
     "execution_count": 353,
     "metadata": {},
     "output_type": "execute_result"
    }
   ],
   "source": [
    "df.dtypes"
   ]
  },
  {
   "cell_type": "markdown",
   "id": "1daa1971",
   "metadata": {},
   "source": [
    "id : Anotación para la casa\n",
    "\n",
    "date: Fecha de venta de la casa\n",
    "\n",
    "price: El precio es el objetivo a predecir\n",
    "\n",
    "bedrooms: Número de habitaciones\n",
    "\n",
    "bathrooms: Número de baños\n",
    "\n",
    "sqft_living: Pies cuadrados de superficie de la casa\n",
    "\n",
    "sqft_lot: Pies cuadrados de superficie de la propiedad\n",
    "\n",
    "floors :Número de pisos (niveles) de la casa\n",
    "\n",
    "waterfront :Casa con vista al mar\n",
    "\n",
    "view: Casa ya vista\n",
    "\n",
    "condition :Que tan buenas son en general las condiciones\n",
    "\n",
    "grade: puntuación general dada a la unidad habitacional en base al sistema de puntuación del condado King\n",
    "\n",
    "sqft_above : Pies cuadrados de superficie de la casa sin contar el sótano\n",
    "\n",
    "sqft_basement: Pies cuadrados de superficie del sótano\n",
    "\n",
    "yr_built : Año de construcción\n",
    "\n",
    "yr_renovated : Año de restauración de la casa\n",
    "\n",
    "zipcode: Código Postal\n",
    "\n",
    "lat: Latitud (coordenada)\n",
    "\n",
    "long: Longitud (coordenada)\n",
    "\n",
    "sqft_living15 : Superficie de la sala en 2015 (implica algunas reformas) Esto pudo haber modificado o no el área de la propiedad\n",
    "\n",
    "sqft_lot15 : Area de la propiedad en 2015 (implica algunas reformas)"
   ]
  },
  {
   "cell_type": "code",
   "execution_count": 411,
   "id": "2e9f0d0f",
   "metadata": {
    "scrolled": false
   },
   "outputs": [
    {
     "data": {
      "text/html": [
       "<div>\n",
       "<style scoped>\n",
       "    .dataframe tbody tr th:only-of-type {\n",
       "        vertical-align: middle;\n",
       "    }\n",
       "\n",
       "    .dataframe tbody tr th {\n",
       "        vertical-align: top;\n",
       "    }\n",
       "\n",
       "    .dataframe thead th {\n",
       "        text-align: right;\n",
       "    }\n",
       "</style>\n",
       "<table border=\"1\" class=\"dataframe\">\n",
       "  <thead>\n",
       "    <tr style=\"text-align: right;\">\n",
       "      <th></th>\n",
       "      <th>price</th>\n",
       "      <th>bedrooms</th>\n",
       "      <th>bathrooms</th>\n",
       "      <th>sqft_living</th>\n",
       "      <th>sqft_lot</th>\n",
       "      <th>floors</th>\n",
       "      <th>waterfront</th>\n",
       "      <th>view</th>\n",
       "      <th>condition</th>\n",
       "      <th>grade</th>\n",
       "      <th>sqft_above</th>\n",
       "      <th>sqft_basement</th>\n",
       "      <th>yr_built</th>\n",
       "      <th>yr_renovated</th>\n",
       "      <th>zipcode</th>\n",
       "      <th>lat</th>\n",
       "      <th>long</th>\n",
       "      <th>sqft_living15</th>\n",
       "      <th>sqft_lot15</th>\n",
       "    </tr>\n",
       "  </thead>\n",
       "  <tbody>\n",
       "    <tr>\n",
       "      <th>count</th>\n",
       "      <td>2.161300e+04</td>\n",
       "      <td>21600.000000</td>\n",
       "      <td>21603.000000</td>\n",
       "      <td>21613.000000</td>\n",
       "      <td>2.161300e+04</td>\n",
       "      <td>21613.000000</td>\n",
       "      <td>21613.000000</td>\n",
       "      <td>21613.000000</td>\n",
       "      <td>21613.000000</td>\n",
       "      <td>21613.000000</td>\n",
       "      <td>21613.000000</td>\n",
       "      <td>21613.000000</td>\n",
       "      <td>21613.000000</td>\n",
       "      <td>21613.000000</td>\n",
       "      <td>21613.000000</td>\n",
       "      <td>21613.000000</td>\n",
       "      <td>21613.000000</td>\n",
       "      <td>21613.000000</td>\n",
       "      <td>21613.000000</td>\n",
       "    </tr>\n",
       "    <tr>\n",
       "      <th>mean</th>\n",
       "      <td>5.400881e+05</td>\n",
       "      <td>3.372870</td>\n",
       "      <td>2.115736</td>\n",
       "      <td>2079.899736</td>\n",
       "      <td>1.510697e+04</td>\n",
       "      <td>1.494309</td>\n",
       "      <td>0.007542</td>\n",
       "      <td>0.234303</td>\n",
       "      <td>3.409430</td>\n",
       "      <td>7.656873</td>\n",
       "      <td>1788.390691</td>\n",
       "      <td>291.509045</td>\n",
       "      <td>1971.005136</td>\n",
       "      <td>84.402258</td>\n",
       "      <td>98077.939805</td>\n",
       "      <td>47.560053</td>\n",
       "      <td>-122.213896</td>\n",
       "      <td>1986.552492</td>\n",
       "      <td>12768.455652</td>\n",
       "    </tr>\n",
       "    <tr>\n",
       "      <th>std</th>\n",
       "      <td>3.671272e+05</td>\n",
       "      <td>0.926657</td>\n",
       "      <td>0.768996</td>\n",
       "      <td>918.440897</td>\n",
       "      <td>4.142051e+04</td>\n",
       "      <td>0.539989</td>\n",
       "      <td>0.086517</td>\n",
       "      <td>0.766318</td>\n",
       "      <td>0.650743</td>\n",
       "      <td>1.175459</td>\n",
       "      <td>828.090978</td>\n",
       "      <td>442.575043</td>\n",
       "      <td>29.373411</td>\n",
       "      <td>401.679240</td>\n",
       "      <td>53.505026</td>\n",
       "      <td>0.138564</td>\n",
       "      <td>0.140828</td>\n",
       "      <td>685.391304</td>\n",
       "      <td>27304.179631</td>\n",
       "    </tr>\n",
       "    <tr>\n",
       "      <th>min</th>\n",
       "      <td>7.500000e+04</td>\n",
       "      <td>1.000000</td>\n",
       "      <td>0.500000</td>\n",
       "      <td>290.000000</td>\n",
       "      <td>5.200000e+02</td>\n",
       "      <td>1.000000</td>\n",
       "      <td>0.000000</td>\n",
       "      <td>0.000000</td>\n",
       "      <td>1.000000</td>\n",
       "      <td>1.000000</td>\n",
       "      <td>290.000000</td>\n",
       "      <td>0.000000</td>\n",
       "      <td>1900.000000</td>\n",
       "      <td>0.000000</td>\n",
       "      <td>98001.000000</td>\n",
       "      <td>47.155900</td>\n",
       "      <td>-122.519000</td>\n",
       "      <td>399.000000</td>\n",
       "      <td>651.000000</td>\n",
       "    </tr>\n",
       "    <tr>\n",
       "      <th>25%</th>\n",
       "      <td>3.219500e+05</td>\n",
       "      <td>3.000000</td>\n",
       "      <td>1.750000</td>\n",
       "      <td>1427.000000</td>\n",
       "      <td>5.040000e+03</td>\n",
       "      <td>1.000000</td>\n",
       "      <td>0.000000</td>\n",
       "      <td>0.000000</td>\n",
       "      <td>3.000000</td>\n",
       "      <td>7.000000</td>\n",
       "      <td>1190.000000</td>\n",
       "      <td>0.000000</td>\n",
       "      <td>1951.000000</td>\n",
       "      <td>0.000000</td>\n",
       "      <td>98033.000000</td>\n",
       "      <td>47.471000</td>\n",
       "      <td>-122.328000</td>\n",
       "      <td>1490.000000</td>\n",
       "      <td>5100.000000</td>\n",
       "    </tr>\n",
       "    <tr>\n",
       "      <th>50%</th>\n",
       "      <td>4.500000e+05</td>\n",
       "      <td>3.000000</td>\n",
       "      <td>2.250000</td>\n",
       "      <td>1910.000000</td>\n",
       "      <td>7.618000e+03</td>\n",
       "      <td>1.500000</td>\n",
       "      <td>0.000000</td>\n",
       "      <td>0.000000</td>\n",
       "      <td>3.000000</td>\n",
       "      <td>7.000000</td>\n",
       "      <td>1560.000000</td>\n",
       "      <td>0.000000</td>\n",
       "      <td>1975.000000</td>\n",
       "      <td>0.000000</td>\n",
       "      <td>98065.000000</td>\n",
       "      <td>47.571800</td>\n",
       "      <td>-122.230000</td>\n",
       "      <td>1840.000000</td>\n",
       "      <td>7620.000000</td>\n",
       "    </tr>\n",
       "    <tr>\n",
       "      <th>75%</th>\n",
       "      <td>6.450000e+05</td>\n",
       "      <td>4.000000</td>\n",
       "      <td>2.500000</td>\n",
       "      <td>2550.000000</td>\n",
       "      <td>1.068800e+04</td>\n",
       "      <td>2.000000</td>\n",
       "      <td>0.000000</td>\n",
       "      <td>0.000000</td>\n",
       "      <td>4.000000</td>\n",
       "      <td>8.000000</td>\n",
       "      <td>2210.000000</td>\n",
       "      <td>560.000000</td>\n",
       "      <td>1997.000000</td>\n",
       "      <td>0.000000</td>\n",
       "      <td>98118.000000</td>\n",
       "      <td>47.678000</td>\n",
       "      <td>-122.125000</td>\n",
       "      <td>2360.000000</td>\n",
       "      <td>10083.000000</td>\n",
       "    </tr>\n",
       "    <tr>\n",
       "      <th>max</th>\n",
       "      <td>7.700000e+06</td>\n",
       "      <td>33.000000</td>\n",
       "      <td>8.000000</td>\n",
       "      <td>13540.000000</td>\n",
       "      <td>1.651359e+06</td>\n",
       "      <td>3.500000</td>\n",
       "      <td>1.000000</td>\n",
       "      <td>4.000000</td>\n",
       "      <td>5.000000</td>\n",
       "      <td>13.000000</td>\n",
       "      <td>9410.000000</td>\n",
       "      <td>4820.000000</td>\n",
       "      <td>2015.000000</td>\n",
       "      <td>2015.000000</td>\n",
       "      <td>98199.000000</td>\n",
       "      <td>47.777600</td>\n",
       "      <td>-121.315000</td>\n",
       "      <td>6210.000000</td>\n",
       "      <td>871200.000000</td>\n",
       "    </tr>\n",
       "  </tbody>\n",
       "</table>\n",
       "</div>"
      ],
      "text/plain": [
       "              price      bedrooms     bathrooms   sqft_living      sqft_lot  \\\n",
       "count  2.161300e+04  21600.000000  21603.000000  21613.000000  2.161300e+04   \n",
       "mean   5.400881e+05      3.372870      2.115736   2079.899736  1.510697e+04   \n",
       "std    3.671272e+05      0.926657      0.768996    918.440897  4.142051e+04   \n",
       "min    7.500000e+04      1.000000      0.500000    290.000000  5.200000e+02   \n",
       "25%    3.219500e+05      3.000000      1.750000   1427.000000  5.040000e+03   \n",
       "50%    4.500000e+05      3.000000      2.250000   1910.000000  7.618000e+03   \n",
       "75%    6.450000e+05      4.000000      2.500000   2550.000000  1.068800e+04   \n",
       "max    7.700000e+06     33.000000      8.000000  13540.000000  1.651359e+06   \n",
       "\n",
       "             floors    waterfront          view     condition         grade  \\\n",
       "count  21613.000000  21613.000000  21613.000000  21613.000000  21613.000000   \n",
       "mean       1.494309      0.007542      0.234303      3.409430      7.656873   \n",
       "std        0.539989      0.086517      0.766318      0.650743      1.175459   \n",
       "min        1.000000      0.000000      0.000000      1.000000      1.000000   \n",
       "25%        1.000000      0.000000      0.000000      3.000000      7.000000   \n",
       "50%        1.500000      0.000000      0.000000      3.000000      7.000000   \n",
       "75%        2.000000      0.000000      0.000000      4.000000      8.000000   \n",
       "max        3.500000      1.000000      4.000000      5.000000     13.000000   \n",
       "\n",
       "         sqft_above  sqft_basement      yr_built  yr_renovated       zipcode  \\\n",
       "count  21613.000000   21613.000000  21613.000000  21613.000000  21613.000000   \n",
       "mean    1788.390691     291.509045   1971.005136     84.402258  98077.939805   \n",
       "std      828.090978     442.575043     29.373411    401.679240     53.505026   \n",
       "min      290.000000       0.000000   1900.000000      0.000000  98001.000000   \n",
       "25%     1190.000000       0.000000   1951.000000      0.000000  98033.000000   \n",
       "50%     1560.000000       0.000000   1975.000000      0.000000  98065.000000   \n",
       "75%     2210.000000     560.000000   1997.000000      0.000000  98118.000000   \n",
       "max     9410.000000    4820.000000   2015.000000   2015.000000  98199.000000   \n",
       "\n",
       "                lat          long  sqft_living15     sqft_lot15  \n",
       "count  21613.000000  21613.000000   21613.000000   21613.000000  \n",
       "mean      47.560053   -122.213896    1986.552492   12768.455652  \n",
       "std        0.138564      0.140828     685.391304   27304.179631  \n",
       "min       47.155900   -122.519000     399.000000     651.000000  \n",
       "25%       47.471000   -122.328000    1490.000000    5100.000000  \n",
       "50%       47.571800   -122.230000    1840.000000    7620.000000  \n",
       "75%       47.678000   -122.125000    2360.000000   10083.000000  \n",
       "max       47.777600   -121.315000    6210.000000  871200.000000  "
      ]
     },
     "execution_count": 411,
     "metadata": {},
     "output_type": "execute_result"
    }
   ],
   "source": [
    "df.drop([\"Unnamed: 0\"], axis=1, inplace=True)\n",
    "df.drop([\"id\"], axis=1, inplace=True)\n",
    "df.drop([\"date\"], axis=1, inplace=True)\n",
    "df.describe()"
   ]
  },
  {
   "cell_type": "markdown",
   "id": "dba68216",
   "metadata": {},
   "source": [
    "#### Análisis de valores nulos:"
   ]
  },
  {
   "cell_type": "code",
   "execution_count": 355,
   "id": "a5ca800f",
   "metadata": {
    "scrolled": true
   },
   "outputs": [
    {
     "data": {
      "text/plain": [
       "price             0\n",
       "bedrooms         13\n",
       "bathrooms        10\n",
       "sqft_living       0\n",
       "sqft_lot          0\n",
       "floors            0\n",
       "waterfront        0\n",
       "view              0\n",
       "condition         0\n",
       "grade             0\n",
       "sqft_above        0\n",
       "sqft_basement     0\n",
       "yr_built          0\n",
       "yr_renovated      0\n",
       "zipcode           0\n",
       "lat               0\n",
       "long              0\n",
       "sqft_living15     0\n",
       "sqft_lot15        0\n",
       "dtype: int64"
      ]
     },
     "execution_count": 355,
     "metadata": {},
     "output_type": "execute_result"
    }
   ],
   "source": [
    "df.isnull().sum()"
   ]
  },
  {
   "cell_type": "code",
   "execution_count": 356,
   "id": "5d331c09",
   "metadata": {},
   "outputs": [
    {
     "data": {
      "text/plain": [
       "(21613, 19)"
      ]
     },
     "execution_count": 356,
     "metadata": {},
     "output_type": "execute_result"
    }
   ],
   "source": [
    "df.shape"
   ]
  },
  {
   "cell_type": "code",
   "execution_count": 7,
   "id": "a2d0618b",
   "metadata": {},
   "outputs": [],
   "source": [
    "#Bedrooms y bathrooms imputarlos tras EDA (Analisis exploratorio de datos)"
   ]
  },
  {
   "cell_type": "markdown",
   "id": "4582caff",
   "metadata": {},
   "source": [
    "#### Exploración de la distribución de las variables:"
   ]
  },
  {
   "cell_type": "code",
   "execution_count": 358,
   "id": "955e6d5c",
   "metadata": {},
   "outputs": [],
   "source": [
    "cols = ['bedrooms', 'bathrooms', 'sqft_living', 'sqft_lot', 'floors', 'waterfront', 'view', 'condition', 'grade', 'sqft_above', 'sqft_basement', 'yr_built', 'yr_renovated', 'zipcode', 'lat', 'long','sqft_living15','sqft_lot15']"
   ]
  },
  {
   "cell_type": "code",
   "execution_count": 359,
   "id": "3f9c91fa",
   "metadata": {
    "scrolled": false
   },
   "outputs": [
    {
     "data": {
      "image/png": "[encoded data removed]",
      "text/plain": [
       "<Figure size 1224x144 with 1 Axes>"
      ]
     },
     "metadata": {},
     "output_type": "display_data"
    },
    {
     "data": {
      "image/png": "[encoded data removed]",
      "text/plain": [
       "<Figure size 1224x144 with 1 Axes>"
      ]
     },
     "metadata": {},
     "output_type": "display_data"
    },
    {
     "data": {
      "image/png": "[encoded data removed]",
      "text/plain": [
       "<Figure size 1224x144 with 1 Axes>"
      ]
     },
     "metadata": {},
     "output_type": "display_data"
    },
    {
     "data": {
      "image/png": "[encoded data removed]",
      "text/plain": [
       "<Figure size 1224x144 with 1 Axes>"
      ]
     },
     "metadata": {},
     "output_type": "display_data"
    },
    {
     "data": {
      "image/png": "[encoded data removed]",
      "text/plain": [
       "<Figure size 1224x144 with 1 Axes>"
      ]
     },
     "metadata": {},
     "output_type": "display_data"
    },
    {
     "data": {
      "image/png": "[encoded data removed]",
      "text/plain": [
       "<Figure size 1224x144 with 1 Axes>"
      ]
     },
     "metadata": {},
     "output_type": "display_data"
    },
    {
     "data": {
      "image/png": "[encoded data removed]",
      "text/plain": [
       "<Figure size 1224x144 with 1 Axes>"
      ]
     },
     "metadata": {},
     "output_type": "display_data"
    },
    {
     "data": {
      "image/png": "[encoded data removed]",
      "text/plain": [
       "<Figure size 1224x144 with 1 Axes>"
      ]
     },
     "metadata": {},
     "output_type": "display_data"
    },
    {
     "data": {
      "image/png": "[encoded data removed]",
      "text/plain": [
       "<Figure size 1224x144 with 1 Axes>"
      ]
     },
     "metadata": {},
     "output_type": "display_data"
    },
    {
     "data": {
      "image/png": "[encoded data removed]",
      "text/plain": [
       "<Figure size 1224x144 with 1 Axes>"
      ]
     },
     "metadata": {},
     "output_type": "display_data"
    },
    {
     "data": {
      "image/png": "[encoded data removed]",
      "text/plain": [
       "<Figure size 1224x144 with 1 Axes>"
      ]
     },
     "metadata": {},
     "output_type": "display_data"
    },
    {
     "data": {
      "image/png": "[encoded data removed]",
      "text/plain": [
       "<Figure size 1224x144 with 1 Axes>"
      ]
     },
     "metadata": {},
     "output_type": "display_data"
    },
    {
     "data": {
      "image/png": "[encoded data removed]",
      "text/plain": [
       "<Figure size 1224x144 with 1 Axes>"
      ]
     },
     "metadata": {},
     "output_type": "display_data"
    },
    {
     "data": {
      "image/png": "[encoded data removed]",
      "text/plain": [
       "<Figure size 1224x144 with 1 Axes>"
      ]
     },
     "metadata": {},
     "output_type": "display_data"
    },
    {
     "data": {
      "image/png": "[encoded data removed]",
      "text/plain": [
       "<Figure size 1224x144 with 1 Axes>"
      ]
     },
     "metadata": {},
     "output_type": "display_data"
    },
    {
     "data": {
      "image/png": "[encoded data removed]",
      "text/plain": [
       "<Figure size 1224x144 with 1 Axes>"
      ]
     },
     "metadata": {},
     "output_type": "display_data"
    },
    {
     "data": {
      "image/png": "[encoded data removed]",
      "text/plain": [
       "<Figure size 1224x144 with 1 Axes>"
      ]
     },
     "metadata": {},
     "output_type": "display_data"
    },
    {
     "data": {
      "image/png": "[encoded data removed]",
      "text/plain": [
       "<Figure size 1224x144 with 1 Axes>"
      ]
     },
     "metadata": {},
     "output_type": "display_data"
    }
   ],
   "source": [
    "sns.set(rc={'figure.figsize':(17,2)}, font_scale=1.5, style='whitegrid')\n",
    "for item in cols:     \n",
    "    sns.boxplot(x = df[item], )\n",
    "    plt.show()"
   ]
  },
  {
   "cell_type": "markdown",
   "id": "9eb6ae66",
   "metadata": {},
   "source": [
    "### 3. Tratamiento de datos:\n",
    "#### Imputación de valores nulos"
   ]
  },
  {
   "cell_type": "code",
   "execution_count": 360,
   "id": "56695f4f",
   "metadata": {},
   "outputs": [
    {
     "name": "stdout",
     "output_type": "stream",
     "text": [
      "Número de valores nulos en la variable bedrooms : 13\n",
      "Número de valores nulos en la variable bathrooms : 10\n"
     ]
    }
   ],
   "source": [
    "print(\"Número de valores nulos en la variable bedrooms :\", df['bedrooms'].isnull().sum())\n",
    "print(\"Número de valores nulos en la variable bathrooms :\", df['bathrooms'].isnull().sum())"
   ]
  },
  {
   "cell_type": "code",
   "execution_count": 362,
   "id": "a0d3c061",
   "metadata": {
    "scrolled": true
   },
   "outputs": [
    {
     "data": {
      "image/png": "[encoded data removed]",
      "text/plain": [
       "<Figure size 1224x360 with 1 Axes>"
      ]
     },
     "metadata": {},
     "output_type": "display_data"
    }
   ],
   "source": [
    "#Bedrooms:\n",
    "media=df['bedrooms'].mean()\n",
    "moda=df['bedrooms'].mode().values[0]\n",
    "mediana=df['bedrooms'].median()\n",
    "sns.set(style='whitegrid')\n",
    "plt.figure(figsize=(17,5))\n",
    "ax= sns.histplot(data=df, x='bedrooms',kde=True, bins=20, alpha=0.7)\n",
    "plt.axvline(media, color='red', linestyle='--', label=f'Media: {media:.2f}')\n",
    "plt.axvline(moda, color='green', linestyle='--', label=f'Moda: {moda:.2f}')\n",
    "plt.axvline(mediana, color='purple', linestyle='--', label=f'Mediana: {mediana:.2f}')\n",
    "\n",
    "plt.legend(loc='upper right')\n",
    "plt.title('Histograma de habitaciones')\n",
    "plt.xlabel('Habitaciones')\n",
    "plt.ylabel('Frecuencia')\n",
    "\n",
    "plt.show()"
   ]
  },
  {
   "cell_type": "code",
   "execution_count": 340,
   "id": "c158692a",
   "metadata": {
    "scrolled": true
   },
   "outputs": [
    {
     "data": {
      "text/plain": [
       "3.0     9824\n",
       "4.0     6882\n",
       "2.0     2760\n",
       "5.0     1601\n",
       "6.0      272\n",
       "1.0      199\n",
       "7.0       38\n",
       "8.0       13\n",
       "9.0        6\n",
       "10.0       3\n",
       "11.0       1\n",
       "33.0       1\n",
       "Name: bedrooms, dtype: int64"
      ]
     },
     "execution_count": 340,
     "metadata": {},
     "output_type": "execute_result"
    }
   ],
   "source": [
    "bedrooms_counts= df[\"bedrooms\"].value_counts()\n",
    "bedrooms_counts"
   ]
  },
  {
   "cell_type": "code",
   "execution_count": 412,
   "id": "56a2f72a",
   "metadata": {},
   "outputs": [
    {
     "name": "stdout",
     "output_type": "stream",
     "text": [
      "Número de valores nulos en la variable bedrooms : 0\n"
     ]
    }
   ],
   "source": [
    "#Tras el análisis se reemplazan los valores faltantes por la moda. \n",
    "df['bedrooms'].replace(np.nan,moda, inplace=True)\n",
    "print(\"Número de valores nulos en la variable bedrooms :\", df['bedrooms'].isnull().sum())"
   ]
  },
  {
   "cell_type": "code",
   "execution_count": 365,
   "id": "c2060826",
   "metadata": {
    "scrolled": true
   },
   "outputs": [
    {
     "data": {
      "image/png": "[encoded data removed]",
      "text/plain": [
       "<Figure size 1224x360 with 1 Axes>"
      ]
     },
     "metadata": {},
     "output_type": "display_data"
    }
   ],
   "source": [
    "#Bathrooms:\n",
    "media=df['bathrooms'].mean()\n",
    "moda=df['bathrooms'].mode().values[0]\n",
    "mediana=df['bathrooms'].median()\n",
    "sns.set(style='whitegrid')\n",
    "plt.figure(figsize=(17,5))\n",
    "ax= sns.histplot(data=df, x='bathrooms',kde=True, bins=15, alpha=0.7)\n",
    "plt.axvline(media, color='red', linestyle='--', label=f'Media: {media:.2f}')\n",
    "plt.axvline(moda, color='green', linestyle='--', label=f'Moda: {moda:.2f}')\n",
    "plt.axvline(mediana, color='purple', linestyle='--', label=f'Mediana: {mediana:.2f}')\n",
    "\n",
    "plt.legend(loc='upper right')\n",
    "plt.title('Histograma de baños')\n",
    "plt.xlabel('Baños')\n",
    "plt.ylabel('Frecuencia')\n",
    "\n",
    "plt.show()"
   ]
  },
  {
   "cell_type": "code",
   "execution_count": 396,
   "id": "aaa8884d",
   "metadata": {
    "scrolled": true
   },
   "outputs": [
    {
     "data": {
      "text/plain": [
       "2.50    5380\n",
       "1.00    3852\n",
       "1.75    3048\n",
       "2.25    2047\n",
       "2.00    1930\n",
       "1.50    1446\n",
       "2.75    1185\n",
       "3.00     753\n",
       "3.50     731\n",
       "3.25     589\n",
       "3.75     155\n",
       "4.00     136\n",
       "4.50     100\n",
       "4.25      79\n",
       "0.75      72\n",
       "4.75      23\n",
       "5.00      21\n",
       "5.25      13\n",
       "5.50      10\n",
       "1.25       9\n",
       "6.00       6\n",
       "0.50       4\n",
       "5.75       4\n",
       "6.75       2\n",
       "8.00       2\n",
       "6.25       2\n",
       "6.50       2\n",
       "7.50       1\n",
       "7.75       1\n",
       "Name: bathrooms, dtype: int64"
      ]
     },
     "execution_count": 396,
     "metadata": {},
     "output_type": "execute_result"
    }
   ],
   "source": [
    "bathrooms_counts= df[\"bathrooms\"].value_counts().sort_values(ascending=False)\n",
    "bathrooms_counts"
   ]
  },
  {
   "cell_type": "code",
   "execution_count": 413,
   "id": "2758c4e5",
   "metadata": {},
   "outputs": [
    {
     "name": "stdout",
     "output_type": "stream",
     "text": [
      "Número de valores nulos en la variable bathrooms : 0\n"
     ]
    }
   ],
   "source": [
    "#Tras el análisis se reemplazan los valores faltantes por la moda.\n",
    "df['bathrooms'].replace(np.nan,moda, inplace=True)\n",
    "print(\"Número de valores nulos en la variable bathrooms :\", df['bathrooms'].isnull().sum())"
   ]
  },
  {
   "cell_type": "markdown",
   "id": "c1e10637",
   "metadata": {},
   "source": [
    "#### Tratamiento de outliers:"
   ]
  },
  {
   "cell_type": "code",
   "execution_count": 414,
   "id": "62eba4b3",
   "metadata": {},
   "outputs": [
    {
     "data": {
      "text/html": [
       "<div>\n",
       "<style scoped>\n",
       "    .dataframe tbody tr th:only-of-type {\n",
       "        vertical-align: middle;\n",
       "    }\n",
       "\n",
       "    .dataframe tbody tr th {\n",
       "        vertical-align: top;\n",
       "    }\n",
       "\n",
       "    .dataframe thead th {\n",
       "        text-align: right;\n",
       "    }\n",
       "</style>\n",
       "<table border=\"1\" class=\"dataframe\">\n",
       "  <thead>\n",
       "    <tr style=\"text-align: right;\">\n",
       "      <th></th>\n",
       "      <th>price</th>\n",
       "      <th>bedrooms</th>\n",
       "      <th>bathrooms</th>\n",
       "      <th>sqft_living</th>\n",
       "      <th>sqft_lot</th>\n",
       "      <th>floors</th>\n",
       "      <th>waterfront</th>\n",
       "      <th>view</th>\n",
       "      <th>condition</th>\n",
       "      <th>grade</th>\n",
       "      <th>sqft_above</th>\n",
       "      <th>sqft_basement</th>\n",
       "      <th>yr_built</th>\n",
       "      <th>yr_renovated</th>\n",
       "      <th>zipcode</th>\n",
       "      <th>lat</th>\n",
       "      <th>long</th>\n",
       "      <th>sqft_living15</th>\n",
       "      <th>sqft_lot15</th>\n",
       "    </tr>\n",
       "  </thead>\n",
       "  <tbody>\n",
       "    <tr>\n",
       "      <th>0</th>\n",
       "      <td>221900.0</td>\n",
       "      <td>3.0</td>\n",
       "      <td>1.00</td>\n",
       "      <td>1180</td>\n",
       "      <td>5650</td>\n",
       "      <td>1.0</td>\n",
       "      <td>0</td>\n",
       "      <td>0</td>\n",
       "      <td>3</td>\n",
       "      <td>7</td>\n",
       "      <td>1180</td>\n",
       "      <td>0</td>\n",
       "      <td>1955</td>\n",
       "      <td>0</td>\n",
       "      <td>98178</td>\n",
       "      <td>47.5112</td>\n",
       "      <td>-122.257</td>\n",
       "      <td>1340</td>\n",
       "      <td>5650</td>\n",
       "    </tr>\n",
       "    <tr>\n",
       "      <th>2</th>\n",
       "      <td>180000.0</td>\n",
       "      <td>2.0</td>\n",
       "      <td>1.00</td>\n",
       "      <td>770</td>\n",
       "      <td>10000</td>\n",
       "      <td>1.0</td>\n",
       "      <td>0</td>\n",
       "      <td>0</td>\n",
       "      <td>3</td>\n",
       "      <td>6</td>\n",
       "      <td>770</td>\n",
       "      <td>0</td>\n",
       "      <td>1933</td>\n",
       "      <td>0</td>\n",
       "      <td>98028</td>\n",
       "      <td>47.7379</td>\n",
       "      <td>-122.233</td>\n",
       "      <td>2720</td>\n",
       "      <td>8062</td>\n",
       "    </tr>\n",
       "    <tr>\n",
       "      <th>3</th>\n",
       "      <td>604000.0</td>\n",
       "      <td>4.0</td>\n",
       "      <td>3.00</td>\n",
       "      <td>1960</td>\n",
       "      <td>5000</td>\n",
       "      <td>1.0</td>\n",
       "      <td>0</td>\n",
       "      <td>0</td>\n",
       "      <td>5</td>\n",
       "      <td>7</td>\n",
       "      <td>1050</td>\n",
       "      <td>910</td>\n",
       "      <td>1965</td>\n",
       "      <td>0</td>\n",
       "      <td>98136</td>\n",
       "      <td>47.5208</td>\n",
       "      <td>-122.393</td>\n",
       "      <td>1360</td>\n",
       "      <td>5000</td>\n",
       "    </tr>\n",
       "    <tr>\n",
       "      <th>4</th>\n",
       "      <td>510000.0</td>\n",
       "      <td>3.0</td>\n",
       "      <td>2.00</td>\n",
       "      <td>1680</td>\n",
       "      <td>8080</td>\n",
       "      <td>1.0</td>\n",
       "      <td>0</td>\n",
       "      <td>0</td>\n",
       "      <td>3</td>\n",
       "      <td>8</td>\n",
       "      <td>1680</td>\n",
       "      <td>0</td>\n",
       "      <td>1987</td>\n",
       "      <td>0</td>\n",
       "      <td>98074</td>\n",
       "      <td>47.6168</td>\n",
       "      <td>-122.045</td>\n",
       "      <td>1800</td>\n",
       "      <td>7503</td>\n",
       "    </tr>\n",
       "    <tr>\n",
       "      <th>6</th>\n",
       "      <td>257500.0</td>\n",
       "      <td>3.0</td>\n",
       "      <td>2.25</td>\n",
       "      <td>1715</td>\n",
       "      <td>6819</td>\n",
       "      <td>2.0</td>\n",
       "      <td>0</td>\n",
       "      <td>0</td>\n",
       "      <td>3</td>\n",
       "      <td>7</td>\n",
       "      <td>1715</td>\n",
       "      <td>0</td>\n",
       "      <td>1995</td>\n",
       "      <td>0</td>\n",
       "      <td>98003</td>\n",
       "      <td>47.3097</td>\n",
       "      <td>-122.327</td>\n",
       "      <td>2238</td>\n",
       "      <td>6819</td>\n",
       "    </tr>\n",
       "    <tr>\n",
       "      <th>...</th>\n",
       "      <td>...</td>\n",
       "      <td>...</td>\n",
       "      <td>...</td>\n",
       "      <td>...</td>\n",
       "      <td>...</td>\n",
       "      <td>...</td>\n",
       "      <td>...</td>\n",
       "      <td>...</td>\n",
       "      <td>...</td>\n",
       "      <td>...</td>\n",
       "      <td>...</td>\n",
       "      <td>...</td>\n",
       "      <td>...</td>\n",
       "      <td>...</td>\n",
       "      <td>...</td>\n",
       "      <td>...</td>\n",
       "      <td>...</td>\n",
       "      <td>...</td>\n",
       "      <td>...</td>\n",
       "    </tr>\n",
       "    <tr>\n",
       "      <th>21608</th>\n",
       "      <td>360000.0</td>\n",
       "      <td>3.0</td>\n",
       "      <td>2.50</td>\n",
       "      <td>1530</td>\n",
       "      <td>1131</td>\n",
       "      <td>3.0</td>\n",
       "      <td>0</td>\n",
       "      <td>0</td>\n",
       "      <td>3</td>\n",
       "      <td>8</td>\n",
       "      <td>1530</td>\n",
       "      <td>0</td>\n",
       "      <td>2009</td>\n",
       "      <td>0</td>\n",
       "      <td>98103</td>\n",
       "      <td>47.6993</td>\n",
       "      <td>-122.346</td>\n",
       "      <td>1530</td>\n",
       "      <td>1509</td>\n",
       "    </tr>\n",
       "    <tr>\n",
       "      <th>21609</th>\n",
       "      <td>400000.0</td>\n",
       "      <td>4.0</td>\n",
       "      <td>2.50</td>\n",
       "      <td>2310</td>\n",
       "      <td>5813</td>\n",
       "      <td>2.0</td>\n",
       "      <td>0</td>\n",
       "      <td>0</td>\n",
       "      <td>3</td>\n",
       "      <td>8</td>\n",
       "      <td>2310</td>\n",
       "      <td>0</td>\n",
       "      <td>2014</td>\n",
       "      <td>0</td>\n",
       "      <td>98146</td>\n",
       "      <td>47.5107</td>\n",
       "      <td>-122.362</td>\n",
       "      <td>1830</td>\n",
       "      <td>7200</td>\n",
       "    </tr>\n",
       "    <tr>\n",
       "      <th>21610</th>\n",
       "      <td>402101.0</td>\n",
       "      <td>2.0</td>\n",
       "      <td>0.75</td>\n",
       "      <td>1020</td>\n",
       "      <td>1350</td>\n",
       "      <td>2.0</td>\n",
       "      <td>0</td>\n",
       "      <td>0</td>\n",
       "      <td>3</td>\n",
       "      <td>7</td>\n",
       "      <td>1020</td>\n",
       "      <td>0</td>\n",
       "      <td>2009</td>\n",
       "      <td>0</td>\n",
       "      <td>98144</td>\n",
       "      <td>47.5944</td>\n",
       "      <td>-122.299</td>\n",
       "      <td>1020</td>\n",
       "      <td>2007</td>\n",
       "    </tr>\n",
       "    <tr>\n",
       "      <th>21611</th>\n",
       "      <td>400000.0</td>\n",
       "      <td>3.0</td>\n",
       "      <td>2.50</td>\n",
       "      <td>1600</td>\n",
       "      <td>2388</td>\n",
       "      <td>2.0</td>\n",
       "      <td>0</td>\n",
       "      <td>0</td>\n",
       "      <td>3</td>\n",
       "      <td>8</td>\n",
       "      <td>1600</td>\n",
       "      <td>0</td>\n",
       "      <td>2004</td>\n",
       "      <td>0</td>\n",
       "      <td>98027</td>\n",
       "      <td>47.5345</td>\n",
       "      <td>-122.069</td>\n",
       "      <td>1410</td>\n",
       "      <td>1287</td>\n",
       "    </tr>\n",
       "    <tr>\n",
       "      <th>21612</th>\n",
       "      <td>325000.0</td>\n",
       "      <td>2.0</td>\n",
       "      <td>0.75</td>\n",
       "      <td>1020</td>\n",
       "      <td>1076</td>\n",
       "      <td>2.0</td>\n",
       "      <td>0</td>\n",
       "      <td>0</td>\n",
       "      <td>3</td>\n",
       "      <td>7</td>\n",
       "      <td>1020</td>\n",
       "      <td>0</td>\n",
       "      <td>2008</td>\n",
       "      <td>0</td>\n",
       "      <td>98144</td>\n",
       "      <td>47.5941</td>\n",
       "      <td>-122.299</td>\n",
       "      <td>1020</td>\n",
       "      <td>1357</td>\n",
       "    </tr>\n",
       "  </tbody>\n",
       "</table>\n",
       "<p>16804 rows × 19 columns</p>\n",
       "</div>"
      ],
      "text/plain": [
       "          price  bedrooms  bathrooms  sqft_living  sqft_lot  floors  \\\n",
       "0      221900.0       3.0       1.00         1180      5650     1.0   \n",
       "2      180000.0       2.0       1.00          770     10000     1.0   \n",
       "3      604000.0       4.0       3.00         1960      5000     1.0   \n",
       "4      510000.0       3.0       2.00         1680      8080     1.0   \n",
       "6      257500.0       3.0       2.25         1715      6819     2.0   \n",
       "...         ...       ...        ...          ...       ...     ...   \n",
       "21608  360000.0       3.0       2.50         1530      1131     3.0   \n",
       "21609  400000.0       4.0       2.50         2310      5813     2.0   \n",
       "21610  402101.0       2.0       0.75         1020      1350     2.0   \n",
       "21611  400000.0       3.0       2.50         1600      2388     2.0   \n",
       "21612  325000.0       2.0       0.75         1020      1076     2.0   \n",
       "\n",
       "       waterfront  view  condition  grade  sqft_above  sqft_basement  \\\n",
       "0               0     0          3      7        1180              0   \n",
       "2               0     0          3      6         770              0   \n",
       "3               0     0          5      7        1050            910   \n",
       "4               0     0          3      8        1680              0   \n",
       "6               0     0          3      7        1715              0   \n",
       "...           ...   ...        ...    ...         ...            ...   \n",
       "21608           0     0          3      8        1530              0   \n",
       "21609           0     0          3      8        2310              0   \n",
       "21610           0     0          3      7        1020              0   \n",
       "21611           0     0          3      8        1600              0   \n",
       "21612           0     0          3      7        1020              0   \n",
       "\n",
       "       yr_built  yr_renovated  zipcode      lat     long  sqft_living15  \\\n",
       "0          1955             0    98178  47.5112 -122.257           1340   \n",
       "2          1933             0    98028  47.7379 -122.233           2720   \n",
       "3          1965             0    98136  47.5208 -122.393           1360   \n",
       "4          1987             0    98074  47.6168 -122.045           1800   \n",
       "6          1995             0    98003  47.3097 -122.327           2238   \n",
       "...         ...           ...      ...      ...      ...            ...   \n",
       "21608      2009             0    98103  47.6993 -122.346           1530   \n",
       "21609      2014             0    98146  47.5107 -122.362           1830   \n",
       "21610      2009             0    98144  47.5944 -122.299           1020   \n",
       "21611      2004             0    98027  47.5345 -122.069           1410   \n",
       "21612      2008             0    98144  47.5941 -122.299           1020   \n",
       "\n",
       "       sqft_lot15  \n",
       "0            5650  \n",
       "2            8062  \n",
       "3            5000  \n",
       "4            7503  \n",
       "6            6819  \n",
       "...           ...  \n",
       "21608        1509  \n",
       "21609        7200  \n",
       "21610        2007  \n",
       "21611        1287  \n",
       "21612        1357  \n",
       "\n",
       "[16804 rows x 19 columns]"
      ]
     },
     "execution_count": 414,
     "metadata": {},
     "output_type": "execute_result"
    }
   ],
   "source": [
    "Q1 = df[cols].quantile(0.25)\n",
    "Q3 = df[cols].quantile(0.75)\n",
    "IQR = Q3 - Q1\n",
    "\n",
    "df = df[~((df[cols] < (Q1 - 2.5 * IQR)) |(df[cols] > (Q3 + 2.5 * IQR))).any(axis=1)]\n",
    "df"
   ]
  },
  {
   "cell_type": "code",
   "execution_count": 415,
   "id": "de53dddf",
   "metadata": {},
   "outputs": [],
   "source": [
    "df1= df"
   ]
  },
  {
   "cell_type": "markdown",
   "id": "887eaafb",
   "metadata": {},
   "source": [
    "#### Análisis de correlaciones para evaluar datos redundantes:"
   ]
  },
  {
   "cell_type": "markdown",
   "id": "fe6aa22f",
   "metadata": {},
   "source": [
    "##### Test de normalidad:"
   ]
  },
  {
   "cell_type": "code",
   "execution_count": 417,
   "id": "b73944d0",
   "metadata": {},
   "outputs": [
    {
     "name": "stdout",
     "output_type": "stream",
     "text": [
      "Estadistico=0.286, p_value=0.000\n"
     ]
    }
   ],
   "source": [
    "from scipy.stats import shapiro\n",
    "estadistico, p_value= shapiro(df)\n",
    "print('Estadistico=%.3f, p_value=%.3f' % (estadistico, p_value))"
   ]
  },
  {
   "cell_type": "code",
   "execution_count": 418,
   "id": "9ea9a4ed",
   "metadata": {
    "scrolled": false
   },
   "outputs": [
    {
     "data": {
      "text/html": [
       "<div>\n",
       "<style scoped>\n",
       "    .dataframe tbody tr th:only-of-type {\n",
       "        vertical-align: middle;\n",
       "    }\n",
       "\n",
       "    .dataframe tbody tr th {\n",
       "        vertical-align: top;\n",
       "    }\n",
       "\n",
       "    .dataframe thead th {\n",
       "        text-align: right;\n",
       "    }\n",
       "</style>\n",
       "<table border=\"1\" class=\"dataframe\">\n",
       "  <thead>\n",
       "    <tr style=\"text-align: right;\">\n",
       "      <th></th>\n",
       "      <th>price</th>\n",
       "      <th>bedrooms</th>\n",
       "      <th>bathrooms</th>\n",
       "      <th>sqft_living</th>\n",
       "      <th>sqft_lot</th>\n",
       "      <th>floors</th>\n",
       "      <th>waterfront</th>\n",
       "      <th>view</th>\n",
       "      <th>condition</th>\n",
       "      <th>grade</th>\n",
       "      <th>sqft_above</th>\n",
       "      <th>sqft_basement</th>\n",
       "      <th>yr_built</th>\n",
       "      <th>yr_renovated</th>\n",
       "      <th>zipcode</th>\n",
       "      <th>lat</th>\n",
       "      <th>long</th>\n",
       "      <th>sqft_living15</th>\n",
       "      <th>sqft_lot15</th>\n",
       "    </tr>\n",
       "  </thead>\n",
       "  <tbody>\n",
       "    <tr>\n",
       "      <th>price</th>\n",
       "      <td>1.000000</td>\n",
       "      <td>0.298362</td>\n",
       "      <td>0.417113</td>\n",
       "      <td>0.559089</td>\n",
       "      <td>-0.077910</td>\n",
       "      <td>0.300797</td>\n",
       "      <td>NaN</td>\n",
       "      <td>NaN</td>\n",
       "      <td>0.027152</td>\n",
       "      <td>0.584620</td>\n",
       "      <td>0.454974</td>\n",
       "      <td>0.198268</td>\n",
       "      <td>0.103060</td>\n",
       "      <td>NaN</td>\n",
       "      <td>-0.004458</td>\n",
       "      <td>0.512061</td>\n",
       "      <td>0.065838</td>\n",
       "      <td>0.490329</td>\n",
       "      <td>-0.089979</td>\n",
       "    </tr>\n",
       "    <tr>\n",
       "      <th>bedrooms</th>\n",
       "      <td>0.298362</td>\n",
       "      <td>1.000000</td>\n",
       "      <td>0.489326</td>\n",
       "      <td>0.657333</td>\n",
       "      <td>0.214524</td>\n",
       "      <td>0.208758</td>\n",
       "      <td>NaN</td>\n",
       "      <td>NaN</td>\n",
       "      <td>0.021853</td>\n",
       "      <td>0.346855</td>\n",
       "      <td>0.538294</td>\n",
       "      <td>0.191364</td>\n",
       "      <td>0.185449</td>\n",
       "      <td>NaN</td>\n",
       "      <td>-0.192035</td>\n",
       "      <td>-0.054990</td>\n",
       "      <td>0.217775</td>\n",
       "      <td>0.451386</td>\n",
       "      <td>0.200766</td>\n",
       "    </tr>\n",
       "    <tr>\n",
       "      <th>bathrooms</th>\n",
       "      <td>0.417113</td>\n",
       "      <td>0.489326</td>\n",
       "      <td>1.000000</td>\n",
       "      <td>0.718665</td>\n",
       "      <td>-0.046565</td>\n",
       "      <td>0.564798</td>\n",
       "      <td>NaN</td>\n",
       "      <td>NaN</td>\n",
       "      <td>-0.184927</td>\n",
       "      <td>0.626339</td>\n",
       "      <td>0.664547</td>\n",
       "      <td>0.128582</td>\n",
       "      <td>0.631528</td>\n",
       "      <td>NaN</td>\n",
       "      <td>-0.238046</td>\n",
       "      <td>-0.028475</td>\n",
       "      <td>0.298390</td>\n",
       "      <td>0.561743</td>\n",
       "      <td>-0.050467</td>\n",
       "    </tr>\n",
       "    <tr>\n",
       "      <th>sqft_living</th>\n",
       "      <td>0.559089</td>\n",
       "      <td>0.657333</td>\n",
       "      <td>0.718665</td>\n",
       "      <td>1.000000</td>\n",
       "      <td>0.195787</td>\n",
       "      <td>0.390146</td>\n",
       "      <td>NaN</td>\n",
       "      <td>NaN</td>\n",
       "      <td>-0.066493</td>\n",
       "      <td>0.656975</td>\n",
       "      <td>0.820832</td>\n",
       "      <td>0.280006</td>\n",
       "      <td>0.377822</td>\n",
       "      <td>NaN</td>\n",
       "      <td>-0.237786</td>\n",
       "      <td>-0.000152</td>\n",
       "      <td>0.311460</td>\n",
       "      <td>0.732464</td>\n",
       "      <td>0.175795</td>\n",
       "    </tr>\n",
       "    <tr>\n",
       "      <th>sqft_lot</th>\n",
       "      <td>-0.077910</td>\n",
       "      <td>0.214524</td>\n",
       "      <td>-0.046565</td>\n",
       "      <td>0.195787</td>\n",
       "      <td>1.000000</td>\n",
       "      <td>-0.350822</td>\n",
       "      <td>NaN</td>\n",
       "      <td>NaN</td>\n",
       "      <td>0.157622</td>\n",
       "      <td>0.014679</td>\n",
       "      <td>0.155299</td>\n",
       "      <td>0.021612</td>\n",
       "      <td>-0.132727</td>\n",
       "      <td>NaN</td>\n",
       "      <td>-0.292741</td>\n",
       "      <td>-0.118169</td>\n",
       "      <td>0.297106</td>\n",
       "      <td>0.241851</td>\n",
       "      <td>0.908337</td>\n",
       "    </tr>\n",
       "    <tr>\n",
       "      <th>floors</th>\n",
       "      <td>0.300797</td>\n",
       "      <td>0.208758</td>\n",
       "      <td>0.564798</td>\n",
       "      <td>0.390146</td>\n",
       "      <td>-0.350822</td>\n",
       "      <td>1.000000</td>\n",
       "      <td>NaN</td>\n",
       "      <td>NaN</td>\n",
       "      <td>-0.314680</td>\n",
       "      <td>0.514038</td>\n",
       "      <td>0.594457</td>\n",
       "      <td>-0.309591</td>\n",
       "      <td>0.604792</td>\n",
       "      <td>NaN</td>\n",
       "      <td>-0.073515</td>\n",
       "      <td>-0.004883</td>\n",
       "      <td>0.158002</td>\n",
       "      <td>0.309753</td>\n",
       "      <td>-0.349508</td>\n",
       "    </tr>\n",
       "    <tr>\n",
       "      <th>waterfront</th>\n",
       "      <td>NaN</td>\n",
       "      <td>NaN</td>\n",
       "      <td>NaN</td>\n",
       "      <td>NaN</td>\n",
       "      <td>NaN</td>\n",
       "      <td>NaN</td>\n",
       "      <td>NaN</td>\n",
       "      <td>NaN</td>\n",
       "      <td>NaN</td>\n",
       "      <td>NaN</td>\n",
       "      <td>NaN</td>\n",
       "      <td>NaN</td>\n",
       "      <td>NaN</td>\n",
       "      <td>NaN</td>\n",
       "      <td>NaN</td>\n",
       "      <td>NaN</td>\n",
       "      <td>NaN</td>\n",
       "      <td>NaN</td>\n",
       "      <td>NaN</td>\n",
       "    </tr>\n",
       "    <tr>\n",
       "      <th>view</th>\n",
       "      <td>NaN</td>\n",
       "      <td>NaN</td>\n",
       "      <td>NaN</td>\n",
       "      <td>NaN</td>\n",
       "      <td>NaN</td>\n",
       "      <td>NaN</td>\n",
       "      <td>NaN</td>\n",
       "      <td>NaN</td>\n",
       "      <td>NaN</td>\n",
       "      <td>NaN</td>\n",
       "      <td>NaN</td>\n",
       "      <td>NaN</td>\n",
       "      <td>NaN</td>\n",
       "      <td>NaN</td>\n",
       "      <td>NaN</td>\n",
       "      <td>NaN</td>\n",
       "      <td>NaN</td>\n",
       "      <td>NaN</td>\n",
       "      <td>NaN</td>\n",
       "    </tr>\n",
       "    <tr>\n",
       "      <th>condition</th>\n",
       "      <td>0.027152</td>\n",
       "      <td>0.021853</td>\n",
       "      <td>-0.184927</td>\n",
       "      <td>-0.066493</td>\n",
       "      <td>0.157622</td>\n",
       "      <td>-0.314680</td>\n",
       "      <td>NaN</td>\n",
       "      <td>NaN</td>\n",
       "      <td>1.000000</td>\n",
       "      <td>-0.191522</td>\n",
       "      <td>-0.166482</td>\n",
       "      <td>0.169993</td>\n",
       "      <td>-0.424896</td>\n",
       "      <td>NaN</td>\n",
       "      <td>-0.027343</td>\n",
       "      <td>-0.004846</td>\n",
       "      <td>-0.082110</td>\n",
       "      <td>-0.112888</td>\n",
       "      <td>0.157909</td>\n",
       "    </tr>\n",
       "    <tr>\n",
       "      <th>grade</th>\n",
       "      <td>0.584620</td>\n",
       "      <td>0.346855</td>\n",
       "      <td>0.626339</td>\n",
       "      <td>0.656975</td>\n",
       "      <td>0.014679</td>\n",
       "      <td>0.514038</td>\n",
       "      <td>NaN</td>\n",
       "      <td>NaN</td>\n",
       "      <td>-0.191522</td>\n",
       "      <td>1.000000</td>\n",
       "      <td>0.665620</td>\n",
       "      <td>0.016671</td>\n",
       "      <td>0.549069</td>\n",
       "      <td>NaN</td>\n",
       "      <td>-0.206538</td>\n",
       "      <td>0.084379</td>\n",
       "      <td>0.237398</td>\n",
       "      <td>0.614715</td>\n",
       "      <td>0.021631</td>\n",
       "    </tr>\n",
       "    <tr>\n",
       "      <th>sqft_above</th>\n",
       "      <td>0.454974</td>\n",
       "      <td>0.538294</td>\n",
       "      <td>0.664547</td>\n",
       "      <td>0.820832</td>\n",
       "      <td>0.155299</td>\n",
       "      <td>0.594457</td>\n",
       "      <td>NaN</td>\n",
       "      <td>NaN</td>\n",
       "      <td>-0.166482</td>\n",
       "      <td>0.665620</td>\n",
       "      <td>1.000000</td>\n",
       "      <td>-0.253324</td>\n",
       "      <td>0.497046</td>\n",
       "      <td>NaN</td>\n",
       "      <td>-0.309609</td>\n",
       "      <td>-0.066382</td>\n",
       "      <td>0.412584</td>\n",
       "      <td>0.681525</td>\n",
       "      <td>0.136248</td>\n",
       "    </tr>\n",
       "    <tr>\n",
       "      <th>sqft_basement</th>\n",
       "      <td>0.198268</td>\n",
       "      <td>0.191364</td>\n",
       "      <td>0.128582</td>\n",
       "      <td>0.280006</td>\n",
       "      <td>0.021612</td>\n",
       "      <td>-0.309591</td>\n",
       "      <td>NaN</td>\n",
       "      <td>NaN</td>\n",
       "      <td>0.169993</td>\n",
       "      <td>0.016671</td>\n",
       "      <td>-0.253324</td>\n",
       "      <td>1.000000</td>\n",
       "      <td>-0.186841</td>\n",
       "      <td>NaN</td>\n",
       "      <td>0.121453</td>\n",
       "      <td>0.136474</td>\n",
       "      <td>-0.207678</td>\n",
       "      <td>0.064825</td>\n",
       "      <td>0.020364</td>\n",
       "    </tr>\n",
       "    <tr>\n",
       "      <th>yr_built</th>\n",
       "      <td>0.103060</td>\n",
       "      <td>0.185449</td>\n",
       "      <td>0.631528</td>\n",
       "      <td>0.377822</td>\n",
       "      <td>-0.132727</td>\n",
       "      <td>0.604792</td>\n",
       "      <td>NaN</td>\n",
       "      <td>NaN</td>\n",
       "      <td>-0.424896</td>\n",
       "      <td>0.549069</td>\n",
       "      <td>0.497046</td>\n",
       "      <td>-0.186841</td>\n",
       "      <td>1.000000</td>\n",
       "      <td>NaN</td>\n",
       "      <td>-0.308785</td>\n",
       "      <td>-0.143510</td>\n",
       "      <td>0.403934</td>\n",
       "      <td>0.362176</td>\n",
       "      <td>-0.111431</td>\n",
       "    </tr>\n",
       "    <tr>\n",
       "      <th>yr_renovated</th>\n",
       "      <td>NaN</td>\n",
       "      <td>NaN</td>\n",
       "      <td>NaN</td>\n",
       "      <td>NaN</td>\n",
       "      <td>NaN</td>\n",
       "      <td>NaN</td>\n",
       "      <td>NaN</td>\n",
       "      <td>NaN</td>\n",
       "      <td>NaN</td>\n",
       "      <td>NaN</td>\n",
       "      <td>NaN</td>\n",
       "      <td>NaN</td>\n",
       "      <td>NaN</td>\n",
       "      <td>NaN</td>\n",
       "      <td>NaN</td>\n",
       "      <td>NaN</td>\n",
       "      <td>NaN</td>\n",
       "      <td>NaN</td>\n",
       "      <td>NaN</td>\n",
       "    </tr>\n",
       "    <tr>\n",
       "      <th>zipcode</th>\n",
       "      <td>-0.004458</td>\n",
       "      <td>-0.192035</td>\n",
       "      <td>-0.238046</td>\n",
       "      <td>-0.237786</td>\n",
       "      <td>-0.292741</td>\n",
       "      <td>-0.073515</td>\n",
       "      <td>NaN</td>\n",
       "      <td>NaN</td>\n",
       "      <td>-0.027343</td>\n",
       "      <td>-0.206538</td>\n",
       "      <td>-0.309609</td>\n",
       "      <td>0.121453</td>\n",
       "      <td>-0.308785</td>\n",
       "      <td>NaN</td>\n",
       "      <td>1.000000</td>\n",
       "      <td>0.268051</td>\n",
       "      <td>-0.566424</td>\n",
       "      <td>-0.322875</td>\n",
       "      <td>-0.293152</td>\n",
       "    </tr>\n",
       "    <tr>\n",
       "      <th>lat</th>\n",
       "      <td>0.512061</td>\n",
       "      <td>-0.054990</td>\n",
       "      <td>-0.028475</td>\n",
       "      <td>-0.000152</td>\n",
       "      <td>-0.118169</td>\n",
       "      <td>-0.004883</td>\n",
       "      <td>NaN</td>\n",
       "      <td>NaN</td>\n",
       "      <td>-0.004846</td>\n",
       "      <td>0.084379</td>\n",
       "      <td>-0.066382</td>\n",
       "      <td>0.136474</td>\n",
       "      <td>-0.143510</td>\n",
       "      <td>NaN</td>\n",
       "      <td>0.268051</td>\n",
       "      <td>1.000000</td>\n",
       "      <td>-0.166007</td>\n",
       "      <td>-0.005689</td>\n",
       "      <td>-0.113423</td>\n",
       "    </tr>\n",
       "    <tr>\n",
       "      <th>long</th>\n",
       "      <td>0.065838</td>\n",
       "      <td>0.217775</td>\n",
       "      <td>0.298390</td>\n",
       "      <td>0.311460</td>\n",
       "      <td>0.297106</td>\n",
       "      <td>0.158002</td>\n",
       "      <td>NaN</td>\n",
       "      <td>NaN</td>\n",
       "      <td>-0.082110</td>\n",
       "      <td>0.237398</td>\n",
       "      <td>0.412584</td>\n",
       "      <td>-0.207678</td>\n",
       "      <td>0.403934</td>\n",
       "      <td>NaN</td>\n",
       "      <td>-0.566424</td>\n",
       "      <td>-0.166007</td>\n",
       "      <td>1.000000</td>\n",
       "      <td>0.408128</td>\n",
       "      <td>0.295187</td>\n",
       "    </tr>\n",
       "    <tr>\n",
       "      <th>sqft_living15</th>\n",
       "      <td>0.490329</td>\n",
       "      <td>0.451386</td>\n",
       "      <td>0.561743</td>\n",
       "      <td>0.732464</td>\n",
       "      <td>0.241851</td>\n",
       "      <td>0.309753</td>\n",
       "      <td>NaN</td>\n",
       "      <td>NaN</td>\n",
       "      <td>-0.112888</td>\n",
       "      <td>0.614715</td>\n",
       "      <td>0.681525</td>\n",
       "      <td>0.064825</td>\n",
       "      <td>0.362176</td>\n",
       "      <td>NaN</td>\n",
       "      <td>-0.322875</td>\n",
       "      <td>-0.005689</td>\n",
       "      <td>0.408128</td>\n",
       "      <td>1.000000</td>\n",
       "      <td>0.247490</td>\n",
       "    </tr>\n",
       "    <tr>\n",
       "      <th>sqft_lot15</th>\n",
       "      <td>-0.089979</td>\n",
       "      <td>0.200766</td>\n",
       "      <td>-0.050467</td>\n",
       "      <td>0.175795</td>\n",
       "      <td>0.908337</td>\n",
       "      <td>-0.349508</td>\n",
       "      <td>NaN</td>\n",
       "      <td>NaN</td>\n",
       "      <td>0.157909</td>\n",
       "      <td>0.021631</td>\n",
       "      <td>0.136248</td>\n",
       "      <td>0.020364</td>\n",
       "      <td>-0.111431</td>\n",
       "      <td>NaN</td>\n",
       "      <td>-0.293152</td>\n",
       "      <td>-0.113423</td>\n",
       "      <td>0.295187</td>\n",
       "      <td>0.247490</td>\n",
       "      <td>1.000000</td>\n",
       "    </tr>\n",
       "  </tbody>\n",
       "</table>\n",
       "</div>"
      ],
      "text/plain": [
       "                  price  bedrooms  bathrooms  sqft_living  sqft_lot    floors  \\\n",
       "price          1.000000  0.298362   0.417113     0.559089 -0.077910  0.300797   \n",
       "bedrooms       0.298362  1.000000   0.489326     0.657333  0.214524  0.208758   \n",
       "bathrooms      0.417113  0.489326   1.000000     0.718665 -0.046565  0.564798   \n",
       "sqft_living    0.559089  0.657333   0.718665     1.000000  0.195787  0.390146   \n",
       "sqft_lot      -0.077910  0.214524  -0.046565     0.195787  1.000000 -0.350822   \n",
       "floors         0.300797  0.208758   0.564798     0.390146 -0.350822  1.000000   \n",
       "waterfront          NaN       NaN        NaN          NaN       NaN       NaN   \n",
       "view                NaN       NaN        NaN          NaN       NaN       NaN   \n",
       "condition      0.027152  0.021853  -0.184927    -0.066493  0.157622 -0.314680   \n",
       "grade          0.584620  0.346855   0.626339     0.656975  0.014679  0.514038   \n",
       "sqft_above     0.454974  0.538294   0.664547     0.820832  0.155299  0.594457   \n",
       "sqft_basement  0.198268  0.191364   0.128582     0.280006  0.021612 -0.309591   \n",
       "yr_built       0.103060  0.185449   0.631528     0.377822 -0.132727  0.604792   \n",
       "yr_renovated        NaN       NaN        NaN          NaN       NaN       NaN   \n",
       "zipcode       -0.004458 -0.192035  -0.238046    -0.237786 -0.292741 -0.073515   \n",
       "lat            0.512061 -0.054990  -0.028475    -0.000152 -0.118169 -0.004883   \n",
       "long           0.065838  0.217775   0.298390     0.311460  0.297106  0.158002   \n",
       "sqft_living15  0.490329  0.451386   0.561743     0.732464  0.241851  0.309753   \n",
       "sqft_lot15    -0.089979  0.200766  -0.050467     0.175795  0.908337 -0.349508   \n",
       "\n",
       "               waterfront  view  condition     grade  sqft_above  \\\n",
       "price                 NaN   NaN   0.027152  0.584620    0.454974   \n",
       "bedrooms              NaN   NaN   0.021853  0.346855    0.538294   \n",
       "bathrooms             NaN   NaN  -0.184927  0.626339    0.664547   \n",
       "sqft_living           NaN   NaN  -0.066493  0.656975    0.820832   \n",
       "sqft_lot              NaN   NaN   0.157622  0.014679    0.155299   \n",
       "floors                NaN   NaN  -0.314680  0.514038    0.594457   \n",
       "waterfront            NaN   NaN        NaN       NaN         NaN   \n",
       "view                  NaN   NaN        NaN       NaN         NaN   \n",
       "condition             NaN   NaN   1.000000 -0.191522   -0.166482   \n",
       "grade                 NaN   NaN  -0.191522  1.000000    0.665620   \n",
       "sqft_above            NaN   NaN  -0.166482  0.665620    1.000000   \n",
       "sqft_basement         NaN   NaN   0.169993  0.016671   -0.253324   \n",
       "yr_built              NaN   NaN  -0.424896  0.549069    0.497046   \n",
       "yr_renovated          NaN   NaN        NaN       NaN         NaN   \n",
       "zipcode               NaN   NaN  -0.027343 -0.206538   -0.309609   \n",
       "lat                   NaN   NaN  -0.004846  0.084379   -0.066382   \n",
       "long                  NaN   NaN  -0.082110  0.237398    0.412584   \n",
       "sqft_living15         NaN   NaN  -0.112888  0.614715    0.681525   \n",
       "sqft_lot15            NaN   NaN   0.157909  0.021631    0.136248   \n",
       "\n",
       "               sqft_basement  yr_built  yr_renovated   zipcode       lat  \\\n",
       "price               0.198268  0.103060           NaN -0.004458  0.512061   \n",
       "bedrooms            0.191364  0.185449           NaN -0.192035 -0.054990   \n",
       "bathrooms           0.128582  0.631528           NaN -0.238046 -0.028475   \n",
       "sqft_living         0.280006  0.377822           NaN -0.237786 -0.000152   \n",
       "sqft_lot            0.021612 -0.132727           NaN -0.292741 -0.118169   \n",
       "floors             -0.309591  0.604792           NaN -0.073515 -0.004883   \n",
       "waterfront               NaN       NaN           NaN       NaN       NaN   \n",
       "view                     NaN       NaN           NaN       NaN       NaN   \n",
       "condition           0.169993 -0.424896           NaN -0.027343 -0.004846   \n",
       "grade               0.016671  0.549069           NaN -0.206538  0.084379   \n",
       "sqft_above         -0.253324  0.497046           NaN -0.309609 -0.066382   \n",
       "sqft_basement       1.000000 -0.186841           NaN  0.121453  0.136474   \n",
       "yr_built           -0.186841  1.000000           NaN -0.308785 -0.143510   \n",
       "yr_renovated             NaN       NaN           NaN       NaN       NaN   \n",
       "zipcode             0.121453 -0.308785           NaN  1.000000  0.268051   \n",
       "lat                 0.136474 -0.143510           NaN  0.268051  1.000000   \n",
       "long               -0.207678  0.403934           NaN -0.566424 -0.166007   \n",
       "sqft_living15       0.064825  0.362176           NaN -0.322875 -0.005689   \n",
       "sqft_lot15          0.020364 -0.111431           NaN -0.293152 -0.113423   \n",
       "\n",
       "                   long  sqft_living15  sqft_lot15  \n",
       "price          0.065838       0.490329   -0.089979  \n",
       "bedrooms       0.217775       0.451386    0.200766  \n",
       "bathrooms      0.298390       0.561743   -0.050467  \n",
       "sqft_living    0.311460       0.732464    0.175795  \n",
       "sqft_lot       0.297106       0.241851    0.908337  \n",
       "floors         0.158002       0.309753   -0.349508  \n",
       "waterfront          NaN            NaN         NaN  \n",
       "view                NaN            NaN         NaN  \n",
       "condition     -0.082110      -0.112888    0.157909  \n",
       "grade          0.237398       0.614715    0.021631  \n",
       "sqft_above     0.412584       0.681525    0.136248  \n",
       "sqft_basement -0.207678       0.064825    0.020364  \n",
       "yr_built       0.403934       0.362176   -0.111431  \n",
       "yr_renovated        NaN            NaN         NaN  \n",
       "zipcode       -0.566424      -0.322875   -0.293152  \n",
       "lat           -0.166007      -0.005689   -0.113423  \n",
       "long           1.000000       0.408128    0.295187  \n",
       "sqft_living15  0.408128       1.000000    0.247490  \n",
       "sqft_lot15     0.295187       0.247490    1.000000  "
      ]
     },
     "execution_count": 418,
     "metadata": {},
     "output_type": "execute_result"
    }
   ],
   "source": [
    "#Tabla de correlaciones:\n",
    "Corr=pd.DataFrame(df).corr(method='spearman')\n",
    "Corr"
   ]
  },
  {
   "cell_type": "code",
   "execution_count": 419,
   "id": "9339a6b5",
   "metadata": {
    "scrolled": true
   },
   "outputs": [
    {
     "data": {
      "text/plain": [
       "array([6.87659114e+07, 5.68776659e+06, 6.44260177e+05, 1.73698318e+05,\n",
       "       1.07271396e+05, 5.81281780e+04, 4.18129650e+04, 3.19319280e+03,\n",
       "       8.64154644e+01, 7.54875042e+01, 7.19963693e+01, 5.34469036e+01,\n",
       "       4.17322672e+01, 1.49223555e+01, 1.25685531e+01, 6.14255369e-11,\n",
       "       1.61887753e-12, 1.81161998e-15, 1.42465461e-16])"
      ]
     },
     "execution_count": 419,
     "metadata": {},
     "output_type": "execute_result"
    }
   ],
   "source": [
    "import numpy as np\n",
    "from scipy.linalg import svd\n",
    "U, s, V_transp=svd(df)\n",
    "s"
   ]
  },
  {
   "cell_type": "code",
   "execution_count": 420,
   "id": "b2621206",
   "metadata": {},
   "outputs": [],
   "source": [
    "rank=np.sum(s>1)"
   ]
  },
  {
   "cell_type": "code",
   "execution_count": 421,
   "id": "2df9d85b",
   "metadata": {},
   "outputs": [
    {
     "name": "stdout",
     "output_type": "stream",
     "text": [
      "La matriz tiene rango 15\n"
     ]
    }
   ],
   "source": [
    "print (\"La matriz tiene rango {}\".format(rank))"
   ]
  },
  {
   "cell_type": "code",
   "execution_count": 422,
   "id": "1d6368c5",
   "metadata": {},
   "outputs": [],
   "source": [
    "#De las 19 variables de la base de datos, 5 tienen valores redundantes o nulos: waterfront, view, yr_renovated, sqft_lot15 y sqft_lot"
   ]
  },
  {
   "cell_type": "markdown",
   "id": "4265fe1c",
   "metadata": {},
   "source": [
    "#### Variables a incluir en el modelo:"
   ]
  },
  {
   "cell_type": "code",
   "execution_count": 423,
   "id": "37c470eb",
   "metadata": {
    "scrolled": false
   },
   "outputs": [
    {
     "data": {
      "text/plain": [
       "sqft_lot15      -0.089979\n",
       "sqft_lot        -0.077910\n",
       "zipcode         -0.004458\n",
       "condition        0.027152\n",
       "long             0.065838\n",
       "yr_built         0.103060\n",
       "sqft_basement    0.198268\n",
       "bedrooms         0.298362\n",
       "floors           0.300797\n",
       "bathrooms        0.417113\n",
       "sqft_above       0.454974\n",
       "sqft_living15    0.490329\n",
       "lat              0.512061\n",
       "sqft_living      0.559089\n",
       "grade            0.584620\n",
       "price            1.000000\n",
       "waterfront            NaN\n",
       "view                  NaN\n",
       "yr_renovated          NaN\n",
       "Name: price, dtype: float64"
      ]
     },
     "execution_count": 423,
     "metadata": {},
     "output_type": "execute_result"
    }
   ],
   "source": [
    "df.corr('spearman')['price'].sort_values()"
   ]
  },
  {
   "cell_type": "code",
   "execution_count": 424,
   "id": "48de5655",
   "metadata": {},
   "outputs": [],
   "source": [
    "# Las 2 variables con valores redundantes, tienen poca correlación con la variable target, por lo tanto se excluyen del modelo.\n",
    "# Se incluyen en el modelo variables con correlación superior a 0.15"
   ]
  },
  {
   "cell_type": "code",
   "execution_count": 425,
   "id": "2a5c14d5",
   "metadata": {},
   "outputs": [],
   "source": [
    "features =[\"sqft_basement\",\"bedrooms\",\"floors\",\"bathrooms\",\"sqft_above\",\"sqft_living15\",\"lat\",\"sqft_living\",\"grade\"]    \n",
    "X = df[features]\n",
    "y = df['price']"
   ]
  },
  {
   "cell_type": "markdown",
   "id": "ad8c1065",
   "metadata": {},
   "source": [
    "### 4. Estandarización y evaluación de modelos:"
   ]
  },
  {
   "cell_type": "code",
   "execution_count": 426,
   "id": "7f0b84c7",
   "metadata": {},
   "outputs": [],
   "source": [
    "numeric_transformer=Pipeline(steps=[('Scaler', StandardScaler())])"
   ]
  },
  {
   "cell_type": "code",
   "execution_count": 427,
   "id": "93aad5d3",
   "metadata": {},
   "outputs": [],
   "source": [
    "transformer=ColumnTransformer([\n",
    "    ('num',numeric_transformer,features)\n",
    "])"
   ]
  },
  {
   "cell_type": "code",
   "execution_count": 428,
   "id": "c6a2c70a",
   "metadata": {},
   "outputs": [],
   "source": [
    "from sklearn.model_selection import train_test_split\n",
    "X_train, X_test, y_train, y_test = train_test_split(X, y, test_size=0.15, random_state=1)"
   ]
  },
  {
   "cell_type": "code",
   "execution_count": 429,
   "id": "7e5dc676",
   "metadata": {},
   "outputs": [
    {
     "data": {
      "text/plain": [
       "((14283, 9), (2521, 9), (14283,), (2521,))"
      ]
     },
     "execution_count": 429,
     "metadata": {},
     "output_type": "execute_result"
    }
   ],
   "source": [
    "X_train.shape, X_test.shape, y_train.shape, y_test.shape"
   ]
  },
  {
   "cell_type": "markdown",
   "id": "4a50aaed",
   "metadata": {},
   "source": [
    "#### Modelo de Regesión lineal multiple:"
   ]
  },
  {
   "cell_type": "code",
   "execution_count": 430,
   "id": "12027785",
   "metadata": {},
   "outputs": [],
   "source": [
    "from sklearn.linear_model import LinearRegression\n",
    "linear_regression= LinearRegression()\n",
    "model_linear_regression=Pipeline ([\n",
    "    ('transformer', transformer),\n",
    "    ('linear_regression',linear_regression)\n",
    "])"
   ]
  },
  {
   "cell_type": "code",
   "execution_count": 431,
   "id": "dab7ce1a",
   "metadata": {},
   "outputs": [
    {
     "data": {
      "text/plain": [
       "Pipeline(steps=[('transformer',\n",
       "                 ColumnTransformer(transformers=[('num',\n",
       "                                                  Pipeline(steps=[('Scaler',\n",
       "                                                                   StandardScaler())]),\n",
       "                                                  ['sqft_basement', 'bedrooms',\n",
       "                                                   'floors', 'bathrooms',\n",
       "                                                   'sqft_above',\n",
       "                                                   'sqft_living15', 'lat',\n",
       "                                                   'sqft_living', 'grade'])])),\n",
       "                ('linear_regression', LinearRegression())])"
      ]
     },
     "execution_count": 431,
     "metadata": {},
     "output_type": "execute_result"
    }
   ],
   "source": [
    "model_linear_regression.fit(X_train, y_train)"
   ]
  },
  {
   "cell_type": "code",
   "execution_count": 432,
   "id": "73b15031",
   "metadata": {},
   "outputs": [
    {
     "data": {
      "text/plain": [
       "array([579594.31317133, 587353.35481399, 493513.91114833, 597833.91114833,\n",
       "       166416.79113301])"
      ]
     },
     "execution_count": 432,
     "metadata": {},
     "output_type": "execute_result"
    }
   ],
   "source": [
    "muestra_datos=X_test.iloc[:5]\n",
    "model_linear_regression.predict(muestra_datos)"
   ]
  },
  {
   "cell_type": "code",
   "execution_count": 433,
   "id": "30b21337",
   "metadata": {},
   "outputs": [
    {
     "data": {
      "text/plain": [
       "[569950.0, 685000.0, 659000.0, 529000.0, 345000.0]"
      ]
     },
     "execution_count": 433,
     "metadata": {},
     "output_type": "execute_result"
    }
   ],
   "source": [
    "list(y_test.iloc[:5])"
   ]
  },
  {
   "cell_type": "code",
   "execution_count": 434,
   "id": "4b2615c7",
   "metadata": {},
   "outputs": [
    {
     "data": {
      "text/plain": [
       "array([-2.26599048e+10, -2.69408594e+10, -2.23654374e+10, -2.15391648e+10,\n",
       "       -2.07409219e+10, -2.69702547e+10, -2.19918104e+10, -2.36340694e+10,\n",
       "       -2.32400980e+10, -2.19780919e+10])"
      ]
     },
     "execution_count": 434,
     "metadata": {},
     "output_type": "execute_result"
    }
   ],
   "source": [
    "#VALIDACION CRUZADA. CONJUNTO DE ENTRENAMIENTO Y PRUEBA:\n",
    "from sklearn.model_selection import cross_val_score\n",
    "linear_scores=cross_val_score(model_linear_regression,X,y,\n",
    "                             scoring='neg_mean_squared_error', cv=10)\n",
    "linear_scores"
   ]
  },
  {
   "cell_type": "code",
   "execution_count": 435,
   "id": "c7870764",
   "metadata": {},
   "outputs": [
    {
     "data": {
      "text/plain": [
       "array([150532.07248519, 164136.70956537, 149550.78535621, 146762.27313126,\n",
       "       144017.08876004, 164226.23022854, 148296.35995791, 153733.76157786,\n",
       "       152447.03327737, 148250.09900995])"
      ]
     },
     "execution_count": 435,
     "metadata": {},
     "output_type": "execute_result"
    }
   ],
   "source": [
    "linear_rmse_scores=np.sqrt(-linear_scores)\n",
    "linear_rmse_scores"
   ]
  },
  {
   "cell_type": "code",
   "execution_count": 436,
   "id": "e0539280",
   "metadata": {},
   "outputs": [
    {
     "name": "stdout",
     "output_type": "stream",
     "text": [
      "Scores: [150532.07248519 164136.70956537 149550.78535621 146762.27313126\n",
      " 144017.08876004 164226.23022854 148296.35995791 153733.76157786\n",
      " 152447.03327737 148250.09900995]\n",
      "Mean 152195.2413349696\n",
      "Standar Desviation: 6532.21115717844\n"
     ]
    }
   ],
   "source": [
    "def display_scores(scores):\n",
    "    print('Scores:', scores)\n",
    "    print('Mean', scores.mean())\n",
    "    print('Standar Desviation:',scores.std())\n",
    "    \n",
    "display_scores(linear_rmse_scores)"
   ]
  },
  {
   "cell_type": "code",
   "execution_count": 437,
   "id": "f1d63a83",
   "metadata": {},
   "outputs": [
    {
     "data": {
      "text/plain": [
       "array([0.57815322, 0.56825851, 0.56043036, 0.55274358, 0.56656842,\n",
       "       0.56519132, 0.59177817, 0.58100421, 0.59282004, 0.63110805])"
      ]
     },
     "execution_count": 437,
     "metadata": {},
     "output_type": "execute_result"
    }
   ],
   "source": [
    "score_r2_linear=cross_val_score(model_linear_regression,X,y,\n",
    "                             scoring='r2', cv=10)\n",
    "score_r2_linear"
   ]
  },
  {
   "cell_type": "code",
   "execution_count": 438,
   "id": "74413568",
   "metadata": {},
   "outputs": [
    {
     "name": "stdout",
     "output_type": "stream",
     "text": [
      "R2 0.57880558768599\n"
     ]
    }
   ],
   "source": [
    "print('R2',score_r2_linear.mean())"
   ]
  },
  {
   "cell_type": "markdown",
   "id": "b22db9a5",
   "metadata": {},
   "source": [
    "#### Modelo Árbol de decisión:"
   ]
  },
  {
   "cell_type": "code",
   "execution_count": 439,
   "id": "b4e0eac8",
   "metadata": {},
   "outputs": [],
   "source": [
    "from sklearn.tree import DecisionTreeRegressor\n",
    "tree_reg=DecisionTreeRegressor(random_state=42)"
   ]
  },
  {
   "cell_type": "code",
   "execution_count": 440,
   "id": "ba7122bf",
   "metadata": {},
   "outputs": [
    {
     "data": {
      "text/plain": [
       "Pipeline(steps=[('transformer',\n",
       "                 ColumnTransformer(transformers=[('num',\n",
       "                                                  Pipeline(steps=[('Scaler',\n",
       "                                                                   StandardScaler())]),\n",
       "                                                  ['sqft_basement', 'bedrooms',\n",
       "                                                   'floors', 'bathrooms',\n",
       "                                                   'sqft_above',\n",
       "                                                   'sqft_living15', 'lat',\n",
       "                                                   'sqft_living', 'grade'])])),\n",
       "                ('tree_reg', DecisionTreeRegressor(random_state=42))])"
      ]
     },
     "execution_count": 440,
     "metadata": {},
     "output_type": "execute_result"
    }
   ],
   "source": [
    "model_tree_reg=Pipeline(steps=[\n",
    "    ('transformer',transformer),\n",
    "    ('tree_reg',tree_reg)\n",
    "])\n",
    "model_tree_reg.fit(X_train,y_train)"
   ]
  },
  {
   "cell_type": "code",
   "execution_count": 441,
   "id": "208ff2cc",
   "metadata": {},
   "outputs": [
    {
     "data": {
      "text/plain": [
       "array([-2.13052495e+10, -2.74848340e+10, -1.91499864e+10, -2.08139870e+10,\n",
       "       -2.13535191e+10, -2.28482903e+10, -2.27352498e+10, -1.96152190e+10,\n",
       "       -1.89591549e+10, -2.60502827e+10])"
      ]
     },
     "execution_count": 441,
     "metadata": {},
     "output_type": "execute_result"
    }
   ],
   "source": [
    "#VALIDACION CRUZADA. CONJUNTO DE ENTRENAMIENTO Y PRUEBA:\n",
    "tree_reg_scores=cross_val_score(model_tree_reg,X,y,\n",
    "                             scoring='neg_mean_squared_error', cv=10)\n",
    "tree_reg_scores"
   ]
  },
  {
   "cell_type": "code",
   "execution_count": 442,
   "id": "c76afcdd",
   "metadata": {},
   "outputs": [
    {
     "data": {
      "text/plain": [
       "array([145963.17844996, 165785.50603939, 138383.47597002, 144270.5341419 ,\n",
       "       146128.43356321, 151156.50941274, 150782.12679856, 140054.3428665 ,\n",
       "       137692.24692259, 161400.9996746 ])"
      ]
     },
     "execution_count": 442,
     "metadata": {},
     "output_type": "execute_result"
    }
   ],
   "source": [
    "tree_rmse_scores=np.sqrt(-tree_reg_scores)\n",
    "tree_rmse_scores"
   ]
  },
  {
   "cell_type": "code",
   "execution_count": 443,
   "id": "853b9bc6",
   "metadata": {},
   "outputs": [
    {
     "name": "stdout",
     "output_type": "stream",
     "text": [
      "Scores: [145963.17844996 165785.50603939 138383.47597002 144270.5341419\n",
      " 146128.43356321 151156.50941274 150782.12679856 140054.3428665\n",
      " 137692.24692259 161400.9996746 ]\n",
      "Mean 148161.735383947\n",
      "Standar Desviation: 8926.221535203646\n"
     ]
    }
   ],
   "source": [
    "display_scores(tree_rmse_scores)"
   ]
  },
  {
   "cell_type": "code",
   "execution_count": 444,
   "id": "2266837d",
   "metadata": {},
   "outputs": [
    {
     "data": {
      "text/plain": [
       "array([0.60337208, 0.55954103, 0.62362673, 0.56780175, 0.55376672,\n",
       "       0.63164475, 0.57797812, 0.65225226, 0.66782464, 0.56275824])"
      ]
     },
     "execution_count": 444,
     "metadata": {},
     "output_type": "execute_result"
    }
   ],
   "source": [
    "score_r2_tree=cross_val_score(model_tree_reg,X,y,\n",
    "                             scoring='r2', cv=10)\n",
    "score_r2_tree"
   ]
  },
  {
   "cell_type": "code",
   "execution_count": 445,
   "id": "70a2d5e1",
   "metadata": {},
   "outputs": [
    {
     "name": "stdout",
     "output_type": "stream",
     "text": [
      "R2 0.6000566325245706\n"
     ]
    }
   ],
   "source": [
    "print('R2',score_r2_tree.mean())"
   ]
  },
  {
   "cell_type": "markdown",
   "id": "37a4b51f",
   "metadata": {},
   "source": [
    "#### Modelo Random Forest:"
   ]
  },
  {
   "cell_type": "code",
   "execution_count": 446,
   "id": "407625b1",
   "metadata": {},
   "outputs": [],
   "source": [
    "from sklearn.ensemble import RandomForestRegressor\n",
    "forest_reg=RandomForestRegressor(n_estimators=10, random_state=42)\n",
    "model_forest_reg=Pipeline(steps=[\n",
    "    ('transformer',transformer),\n",
    "    ('forest_reg',forest_reg)\n",
    "])"
   ]
  },
  {
   "cell_type": "code",
   "execution_count": 447,
   "id": "fcd43f24",
   "metadata": {},
   "outputs": [
    {
     "data": {
      "text/plain": [
       "Pipeline(steps=[('transformer',\n",
       "                 ColumnTransformer(transformers=[('num',\n",
       "                                                  Pipeline(steps=[('Scaler',\n",
       "                                                                   StandardScaler())]),\n",
       "                                                  ['sqft_basement', 'bedrooms',\n",
       "                                                   'floors', 'bathrooms',\n",
       "                                                   'sqft_above',\n",
       "                                                   'sqft_living15', 'lat',\n",
       "                                                   'sqft_living', 'grade'])])),\n",
       "                ('forest_reg',\n",
       "                 RandomForestRegressor(n_estimators=10, random_state=42))])"
      ]
     },
     "execution_count": 447,
     "metadata": {},
     "output_type": "execute_result"
    }
   ],
   "source": [
    "model_forest_reg.fit(X_train,y_train)"
   ]
  },
  {
   "cell_type": "code",
   "execution_count": 448,
   "id": "16b00fa5",
   "metadata": {},
   "outputs": [
    {
     "data": {
      "text/plain": [
       "array([-1.11267320e+10, -1.50251791e+10, -1.18317643e+10, -1.18783046e+10,\n",
       "       -1.14500098e+10, -1.44867129e+10, -1.18243995e+10, -1.11680856e+10,\n",
       "       -1.34601132e+10, -1.14700810e+10])"
      ]
     },
     "execution_count": 448,
     "metadata": {},
     "output_type": "execute_result"
    }
   ],
   "source": [
    "forest_reg_scores=cross_val_score(model_forest_reg,X,y,\n",
    "                             scoring='neg_mean_squared_error', cv=10)\n",
    "forest_reg_scores"
   ]
  },
  {
   "cell_type": "code",
   "execution_count": 449,
   "id": "0dd37fe5",
   "metadata": {},
   "outputs": [
    {
     "data": {
      "text/plain": [
       "array([105483.32567212, 122577.23708483, 108773.9138861 , 108987.63501366,\n",
       "       107004.71876456, 120360.76165138, 108740.05490505, 105679.16369361,\n",
       "       116017.72795319, 107098.46410243])"
      ]
     },
     "execution_count": 449,
     "metadata": {},
     "output_type": "execute_result"
    }
   ],
   "source": [
    "forest_rmse_scores=np.sqrt(-forest_reg_scores)\n",
    "forest_rmse_scores"
   ]
  },
  {
   "cell_type": "code",
   "execution_count": 453,
   "id": "8e0288c0",
   "metadata": {},
   "outputs": [
    {
     "name": "stdout",
     "output_type": "stream",
     "text": [
      "Scores: [105483.32567212 122577.23708483 108773.9138861  108987.63501366\n",
      " 107004.71876456 120360.76165138 108740.05490505 105679.16369361\n",
      " 116017.72795319 107098.46410243]\n",
      "Mean 111072.30027269102\n",
      "Standar Desviation: 5923.03360565125\n"
     ]
    }
   ],
   "source": [
    "display_scores(forest_rmse_scores)"
   ]
  },
  {
   "cell_type": "code",
   "execution_count": 454,
   "id": "9c97bc3f",
   "metadata": {},
   "outputs": [
    {
     "data": {
      "text/plain": [
       "array([0.79285985, 0.75921357, 0.76745885, 0.7533494 , 0.76072443,\n",
       "       0.76644831, 0.7805102 , 0.80200697, 0.76417103, 0.80748008])"
      ]
     },
     "execution_count": 454,
     "metadata": {},
     "output_type": "execute_result"
    }
   ],
   "source": [
    "#VALIDACION CRUZADA. CONJUNTO DE ENTRENAMIENTO Y PRUEBA:\n",
    "score_r2_forest=cross_val_score(model_forest_reg,X,y,\n",
    "                             scoring='r2', cv=10)\n",
    "score_r2_forest"
   ]
  },
  {
   "cell_type": "code",
   "execution_count": 455,
   "id": "98e284cd",
   "metadata": {},
   "outputs": [
    {
     "name": "stdout",
     "output_type": "stream",
     "text": [
      "R2 0.7754222708828864\n"
     ]
    }
   ],
   "source": [
    "print('R2',score_r2_forest.mean())"
   ]
  },
  {
   "cell_type": "markdown",
   "id": "25c218a8",
   "metadata": {},
   "source": [
    "#### Ridge Model:"
   ]
  },
  {
   "cell_type": "code",
   "execution_count": 456,
   "id": "a040fa31",
   "metadata": {},
   "outputs": [],
   "source": [
    "from sklearn.linear_model import Ridge\n",
    "RidgeModel=Ridge(alpha=0.1)\n",
    "model_ridge_reg=Pipeline(steps=[\n",
    "    ('transformer',transformer),\n",
    "    ('RidgeModel',RidgeModel)\n",
    "])"
   ]
  },
  {
   "cell_type": "code",
   "execution_count": 457,
   "id": "8ea58dc0",
   "metadata": {},
   "outputs": [
    {
     "data": {
      "text/plain": [
       "Pipeline(steps=[('transformer',\n",
       "                 ColumnTransformer(transformers=[('num',\n",
       "                                                  Pipeline(steps=[('Scaler',\n",
       "                                                                   StandardScaler())]),\n",
       "                                                  ['sqft_basement', 'bedrooms',\n",
       "                                                   'floors', 'bathrooms',\n",
       "                                                   'sqft_above',\n",
       "                                                   'sqft_living15', 'lat',\n",
       "                                                   'sqft_living', 'grade'])])),\n",
       "                ('RidgeModel', Ridge(alpha=0.1))])"
      ]
     },
     "execution_count": 457,
     "metadata": {},
     "output_type": "execute_result"
    }
   ],
   "source": [
    "model_ridge_reg.fit(X_train,y_train)"
   ]
  },
  {
   "cell_type": "code",
   "execution_count": 458,
   "id": "f8db8cbe",
   "metadata": {},
   "outputs": [
    {
     "data": {
      "text/plain": [
       "array([-2.26644334e+10, -2.69286626e+10, -2.23654194e+10, -2.15504530e+10,\n",
       "       -2.07495134e+10, -2.69582471e+10, -2.19880062e+10, -2.36534246e+10,\n",
       "       -2.32342779e+10, -2.19506977e+10])"
      ]
     },
     "execution_count": 458,
     "metadata": {},
     "output_type": "execute_result"
    }
   ],
   "source": [
    "ridge_reg_scores=cross_val_score(model_ridge_reg,X,y,\n",
    "                             scoring='neg_mean_squared_error', cv=10)\n",
    "ridge_reg_scores"
   ]
  },
  {
   "cell_type": "code",
   "execution_count": 459,
   "id": "3394ea18",
   "metadata": {},
   "outputs": [
    {
     "data": {
      "text/plain": [
       "array([150547.11347832, 164099.55093296, 149550.72527639, 146800.72531074,\n",
       "       144046.91405814, 164189.6679432 , 148283.53300722, 153796.69878526,\n",
       "       152427.94321743, 148157.67841998])"
      ]
     },
     "execution_count": 459,
     "metadata": {},
     "output_type": "execute_result"
    }
   ],
   "source": [
    "ridge_rmse_scores=np.sqrt(-ridge_reg_scores)\n",
    "ridge_rmse_scores"
   ]
  },
  {
   "cell_type": "code",
   "execution_count": 460,
   "id": "c01924cc",
   "metadata": {},
   "outputs": [
    {
     "name": "stdout",
     "output_type": "stream",
     "text": [
      "Scores: [150547.11347832 164099.55093296 149550.72527639 146800.72531074\n",
      " 144046.91405814 164189.6679432  148283.53300722 153796.69878526\n",
      " 152427.94321743 148157.67841998]\n",
      "Mean 152190.0550429633\n",
      "Standar Desviation: 6519.253111483021\n"
     ]
    }
   ],
   "source": [
    "display_scores(ridge_rmse_scores)"
   ]
  },
  {
   "cell_type": "code",
   "execution_count": 461,
   "id": "abb68563",
   "metadata": {},
   "outputs": [
    {
     "data": {
      "text/plain": [
       "array([0.57806892, 0.56845397, 0.56043071, 0.55250918, 0.56638888,\n",
       "       0.56538491, 0.59184879, 0.58066107, 0.59292202, 0.63156784])"
      ]
     },
     "execution_count": 461,
     "metadata": {},
     "output_type": "execute_result"
    }
   ],
   "source": [
    "score_r2_ridge=cross_val_score(model_ridge_reg,X,y,\n",
    "                             scoring='r2', cv=10)\n",
    "score_r2_ridge"
   ]
  },
  {
   "cell_type": "code",
   "execution_count": 462,
   "id": "ea23dbed",
   "metadata": {},
   "outputs": [
    {
     "name": "stdout",
     "output_type": "stream",
     "text": [
      "R2 0.5788236280656147\n"
     ]
    }
   ],
   "source": [
    "print('R2',score_r2_ridge.mean())"
   ]
  },
  {
   "cell_type": "markdown",
   "id": "c03f714e",
   "metadata": {},
   "source": [
    "#### Estadisticos de los modelos:"
   ]
  },
  {
   "cell_type": "code",
   "execution_count": 463,
   "id": "0bae7d2f",
   "metadata": {
    "scrolled": false
   },
   "outputs": [
    {
     "data": {
      "text/html": [
       "<div>\n",
       "<style scoped>\n",
       "    .dataframe tbody tr th:only-of-type {\n",
       "        vertical-align: middle;\n",
       "    }\n",
       "\n",
       "    .dataframe tbody tr th {\n",
       "        vertical-align: top;\n",
       "    }\n",
       "\n",
       "    .dataframe thead th {\n",
       "        text-align: right;\n",
       "    }\n",
       "</style>\n",
       "<table border=\"1\" class=\"dataframe\">\n",
       "  <thead>\n",
       "    <tr style=\"text-align: right;\">\n",
       "      <th></th>\n",
       "      <th>Modelo</th>\n",
       "      <th>Media</th>\n",
       "      <th>Desviación Standard</th>\n",
       "      <th>R2</th>\n",
       "    </tr>\n",
       "  </thead>\n",
       "  <tbody>\n",
       "    <tr>\n",
       "      <th>0</th>\n",
       "      <td>Regresion Lineal Multiple</td>\n",
       "      <td>152195.241335</td>\n",
       "      <td>6532.211157</td>\n",
       "      <td>0.578806</td>\n",
       "    </tr>\n",
       "    <tr>\n",
       "      <th>1</th>\n",
       "      <td>Arbol de decision</td>\n",
       "      <td>148161.735384</td>\n",
       "      <td>8926.221535</td>\n",
       "      <td>0.600057</td>\n",
       "    </tr>\n",
       "    <tr>\n",
       "      <th>2</th>\n",
       "      <td>Random Forest</td>\n",
       "      <td>111072.300273</td>\n",
       "      <td>5923.033606</td>\n",
       "      <td>0.775422</td>\n",
       "    </tr>\n",
       "    <tr>\n",
       "      <th>3</th>\n",
       "      <td>Rigde Model</td>\n",
       "      <td>152190.055043</td>\n",
       "      <td>6519.253111</td>\n",
       "      <td>0.578824</td>\n",
       "    </tr>\n",
       "  </tbody>\n",
       "</table>\n",
       "</div>"
      ],
      "text/plain": [
       "                      Modelo          Media  Desviación Standard        R2\n",
       "0  Regresion Lineal Multiple  152195.241335          6532.211157  0.578806\n",
       "1          Arbol de decision  148161.735384          8926.221535  0.600057\n",
       "2              Random Forest  111072.300273          5923.033606  0.775422\n",
       "3                Rigde Model  152190.055043          6519.253111  0.578824"
      ]
     },
     "execution_count": 463,
     "metadata": {},
     "output_type": "execute_result"
    }
   ],
   "source": [
    "resumen_dict={\n",
    "    'Modelo':['Regresion Lineal Multiple','Arbol de decision','Random Forest','Rigde Model'],\n",
    "    'Media': [152195.2413349696,148161.735383947,111072.30027269102,152190.0550429633],\n",
    "    'Desviación Standard': [6532.21115717844,8926.221535203646,5923.03360565125,6519.253111483021],\n",
    "    'R2':[0.57880558768599,0.6000566325245706,0.7754222708828864,0.5788236280656147]\n",
    "}\n",
    "resumen=pd.DataFrame(resumen_dict)\n",
    "resumen"
   ]
  },
  {
   "cell_type": "markdown",
   "id": "073734f8",
   "metadata": {},
   "source": [
    "### 6. Ajuste del modelo elegido: Random Forest"
   ]
  },
  {
   "cell_type": "code",
   "execution_count": 464,
   "id": "b814372e",
   "metadata": {},
   "outputs": [],
   "source": [
    "#Busqueda de los mejores hiperparametros:\n",
    "from sklearn.model_selection import GridSearchCV"
   ]
  },
  {
   "cell_type": "code",
   "execution_count": 465,
   "id": "34d3f882",
   "metadata": {},
   "outputs": [
    {
     "name": "stdout",
     "output_type": "stream",
     "text": [
      "{'forest_reg__n_estimators': [10, 20, 30, 40, 50, 60, 70, 80, 90, 100], 'forest_reg__max_features': ['auto', 'sqrt'], 'forest_reg__max_depth': [3, 16, 30], 'forest_reg__min_samples_split': [2, 3, 4, 5, 6], 'forest_reg__min_samples_leaf': [1, 2, 3, 4, 5, 6]}\n"
     ]
    }
   ],
   "source": [
    "#Posibles hiperparametros\n",
    "n_estimators= [int (x) for x in np.linspace(start=10, stop=100, num=10)]\n",
    "max_features= ['auto','sqrt']\n",
    "max_depth=[int (x) for x in np.linspace(3,30, num=3)]\n",
    "min_samples_split=[2,3,4,5,6]\n",
    "min_samples_leaf= [1,2,3,4,5,6]\n",
    "\n",
    "params={  'forest_reg__n_estimators':n_estimators,\n",
    "        'forest_reg__max_features': max_features,\n",
    "        'forest_reg__max_depth': max_depth,\n",
    "       'forest_reg__min_samples_split':min_samples_split,\n",
    "       'forest_reg__min_samples_leaf': min_samples_leaf\n",
    "       }\n",
    "print(params)"
   ]
  },
  {
   "cell_type": "code",
   "execution_count": 466,
   "id": "27505417",
   "metadata": {},
   "outputs": [],
   "source": [
    "#Definición del grid de busqueda\n",
    "from sklearn.model_selection import RandomizedSearchCV\n",
    "gridRandom_forest= RandomizedSearchCV(estimator=model_forest_reg,\n",
    "                                     param_distributions= params, n_iter= 5, cv=10,\n",
    "                                     random_state=42, n_jobs=-1, verbose=10)"
   ]
  },
  {
   "cell_type": "code",
   "execution_count": 467,
   "id": "d3e5d147",
   "metadata": {},
   "outputs": [
    {
     "name": "stdout",
     "output_type": "stream",
     "text": [
      "Fitting 10 folds for each of 5 candidates, totalling 50 fits\n"
     ]
    },
    {
     "data": {
      "text/plain": [
       "RandomizedSearchCV(cv=10,\n",
       "                   estimator=Pipeline(steps=[('transformer',\n",
       "                                              ColumnTransformer(transformers=[('num',\n",
       "                                                                               Pipeline(steps=[('Scaler',\n",
       "                                                                                                StandardScaler())]),\n",
       "                                                                               ['sqft_basement',\n",
       "                                                                                'bedrooms',\n",
       "                                                                                'floors',\n",
       "                                                                                'bathrooms',\n",
       "                                                                                'sqft_above',\n",
       "                                                                                'sqft_living15',\n",
       "                                                                                'lat',\n",
       "                                                                                'sqft_living',\n",
       "                                                                                'grade'])])),\n",
       "                                             ('forest_reg',\n",
       "                                              RandomForestRegressor(n_estimators=10,\n",
       "                                                                    random_state=42))]),\n",
       "                   n_iter=5, n_jobs=-1,\n",
       "                   param_distributions={'forest_reg__max_depth': [3, 16, 30],\n",
       "                                        'forest_reg__max_features': ['auto',\n",
       "                                                                     'sqrt'],\n",
       "                                        'forest_reg__min_samples_leaf': [1, 2,\n",
       "                                                                         3, 4,\n",
       "                                                                         5, 6],\n",
       "                                        'forest_reg__min_samples_split': [2, 3,\n",
       "                                                                          4, 5,\n",
       "                                                                          6],\n",
       "                                        'forest_reg__n_estimators': [10, 20, 30,\n",
       "                                                                     40, 50, 60,\n",
       "                                                                     70, 80, 90,\n",
       "                                                                     100]},\n",
       "                   random_state=42, verbose=10)"
      ]
     },
     "execution_count": 467,
     "metadata": {},
     "output_type": "execute_result"
    }
   ],
   "source": [
    "gridRandom_forest.fit(X,y)"
   ]
  },
  {
   "cell_type": "code",
   "execution_count": 469,
   "id": "22785f8b",
   "metadata": {},
   "outputs": [
    {
     "data": {
      "text/plain": [
       "{'forest_reg__n_estimators': 50,\n",
       " 'forest_reg__min_samples_split': 6,\n",
       " 'forest_reg__min_samples_leaf': 2,\n",
       " 'forest_reg__max_features': 'auto',\n",
       " 'forest_reg__max_depth': 30}"
      ]
     },
     "execution_count": 469,
     "metadata": {},
     "output_type": "execute_result"
    }
   ],
   "source": [
    "#Mejores hiperparametros encontrados\n",
    "gridRandom_forest.best_params_"
   ]
  },
  {
   "cell_type": "code",
   "execution_count": 470,
   "id": "146ad271",
   "metadata": {},
   "outputs": [],
   "source": [
    "#Modelo Random forest ajustado con mejores hiperparámetros\n",
    "forest_reg2=RandomForestRegressor(random_state=42,\n",
    "                                  max_depth=30,\n",
    "                                  min_samples_split=6,\n",
    "                                  min_samples_leaf=2,\n",
    "                                  max_features= 'auto',\n",
    "                                  n_estimators=50)"
   ]
  },
  {
   "cell_type": "code",
   "execution_count": 471,
   "id": "42b6b603",
   "metadata": {},
   "outputs": [],
   "source": [
    "model_forest_reg2=Pipeline(steps=[\n",
    "    ('transformer',transformer),\n",
    "    ('forest_reg2',forest_reg2)\n",
    "])"
   ]
  },
  {
   "cell_type": "code",
   "execution_count": 472,
   "id": "c7591dcd",
   "metadata": {},
   "outputs": [
    {
     "data": {
      "text/plain": [
       "Pipeline(steps=[('transformer',\n",
       "                 ColumnTransformer(transformers=[('num',\n",
       "                                                  Pipeline(steps=[('Scaler',\n",
       "                                                                   StandardScaler())]),\n",
       "                                                  ['sqft_basement', 'bedrooms',\n",
       "                                                   'floors', 'bathrooms',\n",
       "                                                   'sqft_above',\n",
       "                                                   'sqft_living15', 'lat',\n",
       "                                                   'sqft_living', 'grade'])])),\n",
       "                ('forest_reg2',\n",
       "                 RandomForestRegressor(max_depth=30, min_samples_leaf=2,\n",
       "                                       min_samples_split=6, n_estimators=50,\n",
       "                                       random_state=42))])"
      ]
     },
     "execution_count": 472,
     "metadata": {},
     "output_type": "execute_result"
    }
   ],
   "source": [
    "model_forest_reg2.fit(X_train, y_train)"
   ]
  },
  {
   "cell_type": "code",
   "execution_count": 473,
   "id": "f5d495c9",
   "metadata": {},
   "outputs": [
    {
     "data": {
      "text/plain": [
       "array([-1.04912311e+10, -1.37584246e+10, -1.08778997e+10, -1.10182355e+10,\n",
       "       -1.07497972e+10, -1.26442318e+10, -1.08119838e+10, -1.05156306e+10,\n",
       "       -1.16794542e+10, -1.04035075e+10])"
      ]
     },
     "execution_count": 473,
     "metadata": {},
     "output_type": "execute_result"
    }
   ],
   "source": [
    "#Score de validación cruzada\n",
    "forest_reg_scores2=cross_val_score(model_forest_reg2,X,y,\n",
    "                             scoring='neg_mean_squared_error', cv=10)\n",
    "forest_reg_scores2"
   ]
  },
  {
   "cell_type": "code",
   "execution_count": 474,
   "id": "9eeef3ba",
   "metadata": {},
   "outputs": [
    {
     "data": {
      "text/plain": [
       "array([102426.7109711 , 117296.31102388, 104297.16990938, 104967.78336915,\n",
       "       103681.22864171, 112446.57312963, 103980.68943024, 102545.74867017,\n",
       "       108071.52343992, 101997.58577755])"
      ]
     },
     "execution_count": 474,
     "metadata": {},
     "output_type": "execute_result"
    }
   ],
   "source": [
    "forest_rmse_scores2=np.sqrt(-forest_reg_scores2)\n",
    "forest_rmse_scores2"
   ]
  },
  {
   "cell_type": "code",
   "execution_count": 475,
   "id": "ffb645ac",
   "metadata": {},
   "outputs": [
    {
     "name": "stdout",
     "output_type": "stream",
     "text": [
      "Scores: [102426.7109711  117296.31102388 104297.16990938 104967.78336915\n",
      " 103681.22864171 112446.57312963 103980.68943024 102545.74867017\n",
      " 108071.52343992 101997.58577755]\n",
      "Mean 106171.13243627222\n",
      "Standar Desviation: 4767.622864068969\n"
     ]
    }
   ],
   "source": [
    "display_scores(forest_rmse_scores2)"
   ]
  },
  {
   "cell_type": "code",
   "execution_count": 476,
   "id": "382b7f33",
   "metadata": {},
   "outputs": [
    {
     "data": {
      "text/plain": [
       "array([0.80469062, 0.77951398, 0.78620608, 0.77120856, 0.77535706,\n",
       "       0.7961524 , 0.79930312, 0.813574  , 0.79536921, 0.82538201])"
      ]
     },
     "execution_count": 476,
     "metadata": {},
     "output_type": "execute_result"
    }
   ],
   "source": [
    "score_r2_forest2=cross_val_score(model_forest_reg2,X,y,\n",
    "                             scoring='r2', cv=10)\n",
    "score_r2_forest2"
   ]
  },
  {
   "cell_type": "code",
   "execution_count": 477,
   "id": "6dbff8cc",
   "metadata": {
    "scrolled": true
   },
   "outputs": [
    {
     "name": "stdout",
     "output_type": "stream",
     "text": [
      "R2 0.7946757043571685\n"
     ]
    }
   ],
   "source": [
    "print('R2',score_r2_forest2.mean())"
   ]
  },
  {
   "cell_type": "code",
   "execution_count": 478,
   "id": "c49d0060",
   "metadata": {
    "scrolled": true
   },
   "outputs": [
    {
     "data": {
      "text/html": [
       "<div>\n",
       "<style scoped>\n",
       "    .dataframe tbody tr th:only-of-type {\n",
       "        vertical-align: middle;\n",
       "    }\n",
       "\n",
       "    .dataframe tbody tr th {\n",
       "        vertical-align: top;\n",
       "    }\n",
       "\n",
       "    .dataframe thead th {\n",
       "        text-align: right;\n",
       "    }\n",
       "</style>\n",
       "<table border=\"1\" class=\"dataframe\">\n",
       "  <thead>\n",
       "    <tr style=\"text-align: right;\">\n",
       "      <th></th>\n",
       "      <th>Modelo</th>\n",
       "      <th>Media</th>\n",
       "      <th>Desviación Standard</th>\n",
       "      <th>R2</th>\n",
       "    </tr>\n",
       "  </thead>\n",
       "  <tbody>\n",
       "    <tr>\n",
       "      <th>0</th>\n",
       "      <td>Random Forest</td>\n",
       "      <td>111072.300273</td>\n",
       "      <td>5923.033606</td>\n",
       "      <td>0.775422</td>\n",
       "    </tr>\n",
       "    <tr>\n",
       "      <th>1</th>\n",
       "      <td>Random Forest Ajustado</td>\n",
       "      <td>106171.132436</td>\n",
       "      <td>4767.622864</td>\n",
       "      <td>0.794676</td>\n",
       "    </tr>\n",
       "  </tbody>\n",
       "</table>\n",
       "</div>"
      ],
      "text/plain": [
       "                   Modelo          Media  Desviación Standard        R2\n",
       "0           Random Forest  111072.300273          5923.033606  0.775422\n",
       "1  Random Forest Ajustado  106171.132436          4767.622864  0.794676"
      ]
     },
     "execution_count": 478,
     "metadata": {},
     "output_type": "execute_result"
    }
   ],
   "source": [
    "resumen_dict={\n",
    "    'Modelo':['Random Forest','Random Forest Ajustado'],\n",
    "    'Media': [111072.30027269102,106171.13243627222],\n",
    "    'Desviación Standard': [5923.03360565125,4767.622864068969],\n",
    "    'R2':[0.7754222708828864,0.7946757043571685]\n",
    "}\n",
    "resumen=pd.DataFrame(resumen_dict)\n",
    "resumen"
   ]
  },
  {
   "cell_type": "markdown",
   "id": "d6641edf",
   "metadata": {},
   "source": [
    "#### Modelo elegido: Random Forest Ajustado"
   ]
  },
  {
   "cell_type": "markdown",
   "id": "fd190040",
   "metadata": {},
   "source": [
    "#### Visualización de la predicción vs datos reales:"
   ]
  },
  {
   "cell_type": "code",
   "execution_count": 482,
   "id": "92ff7c42",
   "metadata": {},
   "outputs": [],
   "source": [
    "muestra_datos=X_test.iloc[:150]\n",
    "yhat=model_forest_reg2.predict(muestra_datos)\n",
    "muestra_datos_reales=list(y_test.iloc[:150])"
   ]
  },
  {
   "cell_type": "code",
   "execution_count": 483,
   "id": "ea2419aa",
   "metadata": {
    "scrolled": true
   },
   "outputs": [
    {
     "data": {
      "image/png": "[encoded data removed]",
      "text/plain": [
       "<Figure size 1296x360 with 1 Axes>"
      ]
     },
     "metadata": {},
     "output_type": "display_data"
    }
   ],
   "source": [
    "plt.figure(figsize=(18,5))\n",
    "\n",
    "plt.plot(yhat, label='Predicción')\n",
    "plt.plot(muestra_datos_reales, linewidth=3.0, label='Datos')\n",
    "plt.legend(loc='best')\n",
    "\n",
    "plt.show()"
   ]
  },
  {
   "cell_type": "markdown",
   "id": "ba059dad",
   "metadata": {},
   "source": [
    "#### Ejemplo de implementación:"
   ]
  },
  {
   "cell_type": "code",
   "execution_count": 487,
   "id": "dc2503db",
   "metadata": {
    "scrolled": true
   },
   "outputs": [
    {
     "data": {
      "text/html": [
       "<div>\n",
       "<style scoped>\n",
       "    .dataframe tbody tr th:only-of-type {\n",
       "        vertical-align: middle;\n",
       "    }\n",
       "\n",
       "    .dataframe tbody tr th {\n",
       "        vertical-align: top;\n",
       "    }\n",
       "\n",
       "    .dataframe thead th {\n",
       "        text-align: right;\n",
       "    }\n",
       "</style>\n",
       "<table border=\"1\" class=\"dataframe\">\n",
       "  <thead>\n",
       "    <tr style=\"text-align: right;\">\n",
       "      <th></th>\n",
       "      <th>floors</th>\n",
       "      <th>lat</th>\n",
       "      <th>bedrooms</th>\n",
       "      <th>sqft_basement</th>\n",
       "      <th>bathrooms</th>\n",
       "      <th>sqft_living15</th>\n",
       "      <th>sqft_above</th>\n",
       "      <th>grade</th>\n",
       "      <th>sqft_living</th>\n",
       "    </tr>\n",
       "  </thead>\n",
       "  <tbody>\n",
       "    <tr>\n",
       "      <th>0</th>\n",
       "      <td>1</td>\n",
       "      <td>47.5112</td>\n",
       "      <td>2</td>\n",
       "      <td>100</td>\n",
       "      <td>1</td>\n",
       "      <td>250</td>\n",
       "      <td>800</td>\n",
       "      <td>7</td>\n",
       "      <td>200</td>\n",
       "    </tr>\n",
       "    <tr>\n",
       "      <th>1</th>\n",
       "      <td>1</td>\n",
       "      <td>47.5112</td>\n",
       "      <td>3</td>\n",
       "      <td>300</td>\n",
       "      <td>1</td>\n",
       "      <td>300</td>\n",
       "      <td>1500</td>\n",
       "      <td>8</td>\n",
       "      <td>300</td>\n",
       "    </tr>\n",
       "    <tr>\n",
       "      <th>2</th>\n",
       "      <td>2</td>\n",
       "      <td>47.5112</td>\n",
       "      <td>4</td>\n",
       "      <td>300</td>\n",
       "      <td>2</td>\n",
       "      <td>400</td>\n",
       "      <td>1600</td>\n",
       "      <td>11</td>\n",
       "      <td>350</td>\n",
       "    </tr>\n",
       "    <tr>\n",
       "      <th>3</th>\n",
       "      <td>2</td>\n",
       "      <td>47.4095</td>\n",
       "      <td>2</td>\n",
       "      <td>100</td>\n",
       "      <td>1</td>\n",
       "      <td>250</td>\n",
       "      <td>700</td>\n",
       "      <td>6</td>\n",
       "      <td>250</td>\n",
       "    </tr>\n",
       "    <tr>\n",
       "      <th>4</th>\n",
       "      <td>1</td>\n",
       "      <td>47.6127</td>\n",
       "      <td>1</td>\n",
       "      <td>100</td>\n",
       "      <td>1</td>\n",
       "      <td>200</td>\n",
       "      <td>600</td>\n",
       "      <td>7</td>\n",
       "      <td>200</td>\n",
       "    </tr>\n",
       "    <tr>\n",
       "      <th>5</th>\n",
       "      <td>2</td>\n",
       "      <td>47.6127</td>\n",
       "      <td>3</td>\n",
       "      <td>600</td>\n",
       "      <td>2</td>\n",
       "      <td>500</td>\n",
       "      <td>2100</td>\n",
       "      <td>9</td>\n",
       "      <td>500</td>\n",
       "    </tr>\n",
       "    <tr>\n",
       "      <th>6</th>\n",
       "      <td>2</td>\n",
       "      <td>47.6127</td>\n",
       "      <td>2</td>\n",
       "      <td>300</td>\n",
       "      <td>1</td>\n",
       "      <td>300</td>\n",
       "      <td>900</td>\n",
       "      <td>7</td>\n",
       "      <td>300</td>\n",
       "    </tr>\n",
       "  </tbody>\n",
       "</table>\n",
       "</div>"
      ],
      "text/plain": [
       "   floors      lat  bedrooms  sqft_basement  bathrooms  sqft_living15  \\\n",
       "0       1  47.5112         2            100          1            250   \n",
       "1       1  47.5112         3            300          1            300   \n",
       "2       2  47.5112         4            300          2            400   \n",
       "3       2  47.4095         2            100          1            250   \n",
       "4       1  47.6127         1            100          1            200   \n",
       "5       2  47.6127         3            600          2            500   \n",
       "6       2  47.6127         2            300          1            300   \n",
       "\n",
       "   sqft_above  grade  sqft_living  \n",
       "0         800      7          200  \n",
       "1        1500      8          300  \n",
       "2        1600     11          350  \n",
       "3         700      6          250  \n",
       "4         600      7          200  \n",
       "5        2100      9          500  \n",
       "6         900      7          300  "
      ]
     },
     "execution_count": 487,
     "metadata": {},
     "output_type": "execute_result"
    }
   ],
   "source": [
    "datos_nuevos={\n",
    "    'floors':[1,1,2,2,1,2,2],\n",
    "    'lat': [47.5112,47.5112,47.5112,47.4095,47.6127,47.6127,47.6127],\n",
    "    'bedrooms':[2,3,4,2,1,3,2],\n",
    "    'sqft_basement':[100,300,300,100,100,600,300],\n",
    "    'bathrooms':[1,1,2,1,1,2,1],\n",
    "    'sqft_living15':[250,300,400,250,200,500,300],\n",
    "    'sqft_above':[800,1500,1600,700,600,2100,900],\n",
    "    'grade':[7,8,11,6,7,9,7],\n",
    "    'sqft_living':[200,300,350,250,200,500,300]\n",
    "    \n",
    "}\n",
    "\n",
    "df_ejemplo=pd.DataFrame(datos_nuevos)\n",
    "df_ejemplo"
   ]
  },
  {
   "cell_type": "markdown",
   "id": "4f11488d",
   "metadata": {},
   "source": [
    "#### Predicción del precio:"
   ]
  },
  {
   "cell_type": "code",
   "execution_count": 488,
   "id": "abc06a9d",
   "metadata": {},
   "outputs": [
    {
     "data": {
      "text/plain": [
       "array([231666.09944444, 233815.08115079, 338014.99212121, 168138.60904762,\n",
       "       331105.8204127 , 556394.57883838, 335759.485893  ])"
      ]
     },
     "execution_count": 488,
     "metadata": {},
     "output_type": "execute_result"
    }
   ],
   "source": [
    "precio=model_forest_reg2.predict(df_ejemplo)\n",
    "precio"
   ]
  },
  {
   "cell_type": "code",
   "execution_count": 495,
   "id": "006cb3fe",
   "metadata": {},
   "outputs": [
    {
     "data": {
      "text/html": [
       "<div>\n",
       "<style scoped>\n",
       "    .dataframe tbody tr th:only-of-type {\n",
       "        vertical-align: middle;\n",
       "    }\n",
       "\n",
       "    .dataframe tbody tr th {\n",
       "        vertical-align: top;\n",
       "    }\n",
       "\n",
       "    .dataframe thead th {\n",
       "        text-align: right;\n",
       "    }\n",
       "</style>\n",
       "<table border=\"1\" class=\"dataframe\">\n",
       "  <thead>\n",
       "    <tr style=\"text-align: right;\">\n",
       "      <th></th>\n",
       "      <th>floors</th>\n",
       "      <th>lat</th>\n",
       "      <th>bedrooms</th>\n",
       "      <th>sqft_basement</th>\n",
       "      <th>bathrooms</th>\n",
       "      <th>sqft_living15</th>\n",
       "      <th>sqft_above</th>\n",
       "      <th>grade</th>\n",
       "      <th>sqft_living</th>\n",
       "      <th>precio</th>\n",
       "    </tr>\n",
       "  </thead>\n",
       "  <tbody>\n",
       "    <tr>\n",
       "      <th>0</th>\n",
       "      <td>1</td>\n",
       "      <td>47.5112</td>\n",
       "      <td>2</td>\n",
       "      <td>100</td>\n",
       "      <td>1</td>\n",
       "      <td>250</td>\n",
       "      <td>800</td>\n",
       "      <td>7</td>\n",
       "      <td>200</td>\n",
       "      <td>231666.099444</td>\n",
       "    </tr>\n",
       "    <tr>\n",
       "      <th>1</th>\n",
       "      <td>1</td>\n",
       "      <td>47.5112</td>\n",
       "      <td>3</td>\n",
       "      <td>300</td>\n",
       "      <td>1</td>\n",
       "      <td>300</td>\n",
       "      <td>1500</td>\n",
       "      <td>8</td>\n",
       "      <td>300</td>\n",
       "      <td>233815.081151</td>\n",
       "    </tr>\n",
       "    <tr>\n",
       "      <th>2</th>\n",
       "      <td>2</td>\n",
       "      <td>47.5112</td>\n",
       "      <td>4</td>\n",
       "      <td>300</td>\n",
       "      <td>2</td>\n",
       "      <td>400</td>\n",
       "      <td>1600</td>\n",
       "      <td>11</td>\n",
       "      <td>350</td>\n",
       "      <td>338014.992121</td>\n",
       "    </tr>\n",
       "    <tr>\n",
       "      <th>3</th>\n",
       "      <td>2</td>\n",
       "      <td>47.4095</td>\n",
       "      <td>2</td>\n",
       "      <td>100</td>\n",
       "      <td>1</td>\n",
       "      <td>250</td>\n",
       "      <td>700</td>\n",
       "      <td>6</td>\n",
       "      <td>250</td>\n",
       "      <td>168138.609048</td>\n",
       "    </tr>\n",
       "    <tr>\n",
       "      <th>4</th>\n",
       "      <td>1</td>\n",
       "      <td>47.6127</td>\n",
       "      <td>1</td>\n",
       "      <td>100</td>\n",
       "      <td>1</td>\n",
       "      <td>200</td>\n",
       "      <td>600</td>\n",
       "      <td>7</td>\n",
       "      <td>200</td>\n",
       "      <td>331105.820413</td>\n",
       "    </tr>\n",
       "    <tr>\n",
       "      <th>5</th>\n",
       "      <td>2</td>\n",
       "      <td>47.6127</td>\n",
       "      <td>3</td>\n",
       "      <td>600</td>\n",
       "      <td>2</td>\n",
       "      <td>500</td>\n",
       "      <td>2100</td>\n",
       "      <td>9</td>\n",
       "      <td>500</td>\n",
       "      <td>556394.578838</td>\n",
       "    </tr>\n",
       "    <tr>\n",
       "      <th>6</th>\n",
       "      <td>2</td>\n",
       "      <td>47.6127</td>\n",
       "      <td>2</td>\n",
       "      <td>300</td>\n",
       "      <td>1</td>\n",
       "      <td>300</td>\n",
       "      <td>900</td>\n",
       "      <td>7</td>\n",
       "      <td>300</td>\n",
       "      <td>335759.485893</td>\n",
       "    </tr>\n",
       "  </tbody>\n",
       "</table>\n",
       "</div>"
      ],
      "text/plain": [
       "   floors      lat  bedrooms  sqft_basement  bathrooms  sqft_living15  \\\n",
       "0       1  47.5112         2            100          1            250   \n",
       "1       1  47.5112         3            300          1            300   \n",
       "2       2  47.5112         4            300          2            400   \n",
       "3       2  47.4095         2            100          1            250   \n",
       "4       1  47.6127         1            100          1            200   \n",
       "5       2  47.6127         3            600          2            500   \n",
       "6       2  47.6127         2            300          1            300   \n",
       "\n",
       "   sqft_above  grade  sqft_living         precio  \n",
       "0         800      7          200  231666.099444  \n",
       "1        1500      8          300  233815.081151  \n",
       "2        1600     11          350  338014.992121  \n",
       "3         700      6          250  168138.609048  \n",
       "4         600      7          200  331105.820413  \n",
       "5        2100      9          500  556394.578838  \n",
       "6         900      7          300  335759.485893  "
      ]
     },
     "execution_count": 495,
     "metadata": {},
     "output_type": "execute_result"
    }
   ],
   "source": [
    "df_ejemplo['precio']=([231666.09944444, 233815.08115079, 338014.99212121, 168138.60904762,\n",
    "       331105.8204127 , 556394.57883838, 335759.485893  ])\n",
    "df_ejemplo"
   ]
  }
 ],
 "metadata": {
  "kernelspec": {
   "display_name": "Python 3 (ipykernel)",
   "language": "python",
   "name": "python3"
  },
  "language_info": {
   "codemirror_mode": {
    "name": "ipython",
    "version": 3
   },
   "file_extension": ".py",
   "mimetype": "text/x-python",
   "name": "python",
   "nbconvert_exporter": "python",
   "pygments_lexer": "ipython3",
   "version": "3.9.12"
  }
 },
 "nbformat": 4,
 "nbformat_minor": 5
}
